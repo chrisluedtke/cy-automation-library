{
 "cells": [
  {
   "cell_type": "code",
   "execution_count": null,
   "metadata": {},
   "outputs": [],
   "source": [
    "# these two lines ensure that python can find the \"cyschoolhouse\"\n",
    "# package\n",
    "import os\n",
    "os.sys.path.insert(0, os.path.abspath('../cyautomation/'))"
   ]
  },
  {
   "cell_type": "code",
   "execution_count": null,
   "metadata": {},
   "outputs": [],
   "source": [
    "import cyschoolhouse as cysh\n",
    "\n",
    "directory = r\"C:\\Users\\City_Year\\Desktop\\cysh_exports\"\n",
    "\n",
    "if not os.path.exists(directory):\n",
    "    os.mkdir(directory)\n",
    "\n",
    "successful_exports = [x[0:-4] for x in os.listdir(directory)]\n",
    "objects = list(cysh.object_reference().keys())\n",
    "failed = []\n",
    "\n",
    "for cysh_object in objects:\n",
    "    if (cysh_object not in successful_exports and\n",
    "        cysh_object not in failed and\n",
    "        'History' not in cysh_object):\n",
    "\n",
    "        print(f\"{cysh_object}\")\n",
    "\n",
    "        try:\n",
    "            if cysh_object == 'Student__c':\n",
    "                school_df = cysh.get_object_df('Account', ['Id', 'Name'])\n",
    "                df = cysh.get_object_df(\n",
    "                    'Student__c',\n",
    "                    ['Id', 'Student_Id__c', 'Local_Student_ID__c', 'Name', \n",
    "                     'Student_Last_Name__c', 'Grade__c', 'School__c', \n",
    "                     'School_Name__c', 'External_Id__c'],\n",
    "                    where=f\"School__c IN ({str(school_df['Id'].tolist())[1:-1]})\"\n",
    "                )\n",
    "            else:\n",
    "                df = cysh.get_object_df(cysh_object)\n",
    "\n",
    "            path = os.path.join(directory, cysh_object + \".xlsx\")\n",
    "            df.to_excel(path, index=False, freeze_panes=(1,0))\n",
    "\n",
    "        except Exception as e:\n",
    "            print(e)\n",
    "            failed.append(cysh_object)\n",
    "            pass\n",
    "\n",
    "        print(\"\")"
   ]
  }
 ],
 "metadata": {
  "kernelspec": {
   "display_name": "Python 3",
   "language": "python",
   "name": "python3"
  },
  "language_info": {
   "codemirror_mode": {
    "name": "ipython",
    "version": 3
   },
   "file_extension": ".py",
   "mimetype": "text/x-python",
   "name": "python",
   "nbconvert_exporter": "python",
   "pygments_lexer": "ipython3",
   "version": "3.6.8"
  }
 },
 "nbformat": 4,
 "nbformat_minor": 2
}
