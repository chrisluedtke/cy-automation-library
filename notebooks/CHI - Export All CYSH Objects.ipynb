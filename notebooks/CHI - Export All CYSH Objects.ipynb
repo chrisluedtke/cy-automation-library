{
 "cells": [
  {
   "cell_type": "code",
   "execution_count": null,
   "metadata": {},
   "outputs": [],
   "source": [
    "# these two lines ensure that python can find the \"cyschoolhouse\"\n",
    "# package\n",
    "from os import path, sys\n",
    "sys.path.insert(0, path.abspath('../cyautomation/'))"
   ]
  },
  {
   "cell_type": "code",
   "execution_count": 17,
   "metadata": {},
   "outputs": [],
   "source": [
    "import cyschoolhouse as cysh"
   ]
  },
  {
   "cell_type": "code",
   "execution_count": 2,
   "metadata": {},
   "outputs": [],
   "source": [
    "directory = r\"C:\\Users\\City_Year\\Desktop\\cysh_exports\"\n",
    "successful_exports = [x[0:-4] for x in os.listdir(directory)]\n",
    "\n",
    "for cysh_object in cysh_object_reference:\n",
    "    if cysh_object not in successful_exports and cysh_object not in failed and 'History' not in cysh_object:\n",
    "        print(f\"{cysh_object}\")\n",
    "        try:\n",
    "            df = get_cysh_df(cysh_object)\n",
    "            path = os.path.join(directory, cysh_object + \".csv\")\n",
    "            df.to_csv(path,index=False)\n",
    "        except Exception as e:\n",
    "            print(e)\n",
    "            failed.append(cysh_object)\n",
    "            pass\n",
    "        print(\"\")"
   ]
  }
 ],
 "metadata": {
  "kernelspec": {
   "display_name": "Python 3",
   "language": "python",
   "name": "python3"
  },
  "language_info": {
   "codemirror_mode": {
    "name": "ipython",
    "version": 3
   },
   "file_extension": ".py",
   "mimetype": "text/x-python",
   "name": "python",
   "nbconvert_exporter": "python",
   "pygments_lexer": "ipython3",
   "version": "3.6.8"
  }
 },
 "nbformat": 4,
 "nbformat_minor": 2
}
