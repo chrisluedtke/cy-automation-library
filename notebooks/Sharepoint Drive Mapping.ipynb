{
 "cells": [
  {
   "cell_type": "markdown",
   "metadata": {},
   "source": [
    "## Programmatically Map Network Drive for Sharepoint Sites\n",
    "\n",
    "Resources:\n",
    "* https://docs.python.org/3/library/subprocess.html\n",
    "* https://stackoverflow.com/questions/41959833/copy-from-local-drive-to-mapped-sharepoint-drive-using-python\n",
    "* https://stackoverflow.com/questions/15925368/how-to-refresh-network-drive-mappings-in-python\n",
    "* https://stackoverflow.com/questions/41959833/copy-from-local-drive-to-mapped-sharepoint-drive-using-python\n",
    "* https://support.office.com/en-us/article/troubleshoot-mapped-network-drives-that-connect-to-sharepoint-online-ef399c67-4578-4c3a-adbe-0b489084eabe?ui=en-US&rs=en-US&ad=US\n",
    "* https://stackoverflow.com/questions/1271317/what-is-the-best-way-to-map-windows-drives-using-python"
   ]
  },
  {
   "cell_type": "markdown",
   "metadata": {},
   "source": [
    "Before this script will work, you must have a current and activated mapped network drive for `\\\\cityyear.sharepoint.com@SSL\\teams\\chi`. Typically this requires that the user is also logged in to Sharepoint through Internet Explorer, and sometimes it requires that the user open a doument library in File Explorer.\n",
    "\n",
    "There remains the issure that drive connections will periodically need to be re-activated by navigating to Sharepoint on Internet Explorer and signing in."
   ]
  },
  {
   "cell_type": "code",
   "execution_count": null,
   "metadata": {},
   "outputs": [],
   "source": [
    "import subprocess\n",
    "\n",
    "sp_team = r'\\\\cityyear.sharepoint.com@SSL\\teams\\chi'\n",
    "sp_site = r'\\\\cityyear.sharepoint.com@SSL\\sites\\chicagochalmers'"
   ]
  },
  {
   "cell_type": "code",
   "execution_count": null,
   "metadata": {},
   "outputs": [],
   "source": [
    "# create the mapped network drive\n",
    "drive = 'm:'\n",
    "response = subprocess.run(f\"net use {drive} {sp_site} /persistent:Yes\", shell=True)\n",
    "response.check_returncode()"
   ]
  },
  {
   "cell_type": "code",
   "execution_count": null,
   "metadata": {},
   "outputs": [],
   "source": [
    "# delete the mapped network drive\n",
    "response = subprocess.run(f\"net use {drive} /delete\")\n",
    "response.check_returncode()"
   ]
  }
 ],
 "metadata": {
  "kernelspec": {
   "display_name": "Python 3",
   "language": "python",
   "name": "python3"
  },
  "language_info": {
   "codemirror_mode": {
    "name": "ipython",
    "version": 3
   },
   "file_extension": ".py",
   "mimetype": "text/x-python",
   "name": "python",
   "nbconvert_exporter": "python",
   "pygments_lexer": "ipython3",
   "version": "3.6.8"
  }
 },
 "nbformat": 4,
 "nbformat_minor": 2
}
