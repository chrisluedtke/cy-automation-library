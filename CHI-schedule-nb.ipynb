{
 "cells": [
  {
   "cell_type": "code",
   "execution_count": null,
   "metadata": {
    "scrolled": true
   },
   "outputs": [],
   "source": [
    "import cyautomation.cyschoolhouse as cysh"
   ]
  },
  {
   "cell_type": "code",
   "execution_count": null,
   "metadata": {},
   "outputs": [],
   "source": [
    "dir(cysh)"
   ]
  },
  {
   "cell_type": "code",
   "execution_count": null,
   "metadata": {},
   "outputs": [],
   "source": [
    "# # Associate TLs with their ACMs' SEL sections\n",
    "\n",
    "# section_df = cysh.get_object_df('Section__c')\n",
    "# section_df = section_df.loc[section_df['Name'].str.contains('SEL')]\n",
    "\n",
    "# staff_df = cysh.get_object_df('Staff__c', ['Id', 'Name', 'Role__c', 'Organization__c'])\n",
    "# staff_df = staff_df.loc[staff_df['Role__c'].str.contains('Team Lead')==True]\n",
    "\n",
    "# staff_section_df = cysh.get_object_df('Staff_Section__c')\n",
    "\n",
    "# results = []\n",
    "# for index, row in section_df.iterrows():\n",
    "#     if len(staff_section_df.loc[staff_section_df['Section__c']==row['Id']]) > 1:\n",
    "#         print(f\"ERROR: Section: {row['Id']} already has more than 1 staff associated\")\n",
    "#         continue\n",
    "#     staff = staff_df.loc[staff_df['Organization__c']==row['School__c'], 'Id']\n",
    "#     if len(staff) != 1:\n",
    "#         print(f\"ERROR: 0 or many Team Leaders associated with school: {row['School__c']}\")\n",
    "#         continue\n",
    "#     staff_section_dict = {}\n",
    "#     staff_section_dict['Account__c'] = row['School__c']\n",
    "#     staff_section_dict['Section__c'] = row['Id']\n",
    "#     staff_section_dict['Staff__c'] = staff.values[0]\n",
    "#     staff_section_dict['Intervention_Primary_Staff__c'] = False\n",
    "    \n",
    "#     result = cysh.sf.Staff_Section__c.create(staff_section_dict)\n",
    "#     results.append(result)"
   ]
  },
  {
   "cell_type": "code",
   "execution_count": null,
   "metadata": {},
   "outputs": [],
   "source": [
    "# sch_ref_df = pd.read_excel(r'Z:\\ChiPrivate\\Chicago Data and Evaluation\\SY19\\SY19 School Reference.xlsx')\n",
    "# \n",
    "# tracker.fill_all_coaching_log_acm_rollup(sch_ref_df.loc[sch_ref_df['Informal Name']=='Chicago Academy'])"
   ]
  },
  {
   "cell_type": "markdown",
   "metadata": {},
   "source": [
    "## Daily"
   ]
  },
  {
   "cell_type": "code",
   "execution_count": null,
   "metadata": {
    "scrolled": true
   },
   "outputs": [],
   "source": [
    "def load_myacms():\n",
    "    # Get mid-years\n",
    "    import pandas as pd\n",
    "\n",
    "    df = cysh.get_object_df('Staff__c', ['Id', 'Individual__c', 'Name',\n",
    "                                         'CreatedDate', 'Reference_Id__c', \n",
    "                                         'Site__c', 'Role__c', 'Email__c'])\n",
    "    df = df.loc[df['Site__c']=='Chicago']\n",
    "\n",
    "    df['CreatedDate'] = pd.to_datetime(df['CreatedDate'])\n",
    "    df = df.sort_values('CreatedDate', ascending=False)\n",
    "    df = df.loc[df['CreatedDate']>='2019-01-01']\n",
    "    return df\n",
    "\n",
    "#sf = cysh.init_sf_session()\n",
    "#\n",
    "#for i, r in load_myacms().iterrows():\n",
    "#    sf.Staff__c.update(r['Id'], {'Role__c':'Corps Member'})"
   ]
  },
  {
   "cell_type": "code",
   "execution_count": null,
   "metadata": {},
   "outputs": [],
   "source": [
    "## sync enrollment in DESSA sections\n",
    "results1 = cysh.student_section.enrollment_sync(\n",
    "    source_section = 'Tutoring: Math',\n",
    "    destination_section = 'DESSA',\n",
    "    enrollment_start_date = '2018-09-05',\n",
    "    ACM_to_TL = True\n",
    ")\n",
    "\n",
    "results2 = cysh.student_section.enrollment_sync(\n",
    "    source_section = 'Tutoring: Literacy',\n",
    "    destination_section = 'DESSA',\n",
    "    enrollment_start_date = '2018-09-05',\n",
    "    ACM_to_TL = True\n",
    ")\n",
    "\n",
    "## sync enrollment in MIRI sections\n",
    "results3 = cysh.student_section.enrollment_sync(\n",
    "    source_section = 'Tutoring: Math',\n",
    "    destination_section = 'Math Inventory',\n",
    "    enrollment_start_date = '2018-09-05'\n",
    ")\n",
    "\n",
    "results4 = cysh.student_section.enrollment_sync(\n",
    "    source_section = 'Tutoring: Literacy',\n",
    "    destination_section = 'Reading Inventory',\n",
    "    enrollment_start_date = '2018-09-05'\n",
    ")"
   ]
  },
  {
   "cell_type": "markdown",
   "metadata": {},
   "source": [
    "## As Needed/Requested"
   ]
  },
  {
   "cell_type": "code",
   "execution_count": null,
   "metadata": {},
   "outputs": [],
   "source": [
    "## Requires salesforce 2FA\n",
    "## Add New Students to cyschoolhouse\n",
    "cysh.student.upload_all(\n",
    "    xlsx_dir = 'Z:\\\\ChiPrivate\\\\Chicago Data and Evaluation\\\\SY19', \n",
    "    xlsx_name = 'SY19 New Students for cyschoolhouse.xlsx', \n",
    "    enrollment_date='8/3/2018',\n",
    ")\n",
    "#from time import sleep\n",
    "#sleep(60)"
   ]
  },
  {
   "cell_type": "code",
   "execution_count": null,
   "metadata": {},
   "outputs": [],
   "source": [
    "cysh.student.update_student_External_Id()"
   ]
  },
  {
   "cell_type": "code",
   "execution_count": null,
   "metadata": {},
   "outputs": [],
   "source": [
    "# cysh.tracker_mgmt.unprotect_ACM_validation_sheet(resource_type='SY19 Leadership Tracker', containing_folder='Leadership Team Documents')\n",
    "# cysh.tracker_mgmt.unprotect_ACM_validation_sheet(resource_type='SY19 Coaching Log', containing_folder='Leadership Team Documents')"
   ]
  },
  {
   "cell_type": "markdown",
   "metadata": {},
   "source": [
    "## Weekly"
   ]
  },
  {
   "cell_type": "code",
   "execution_count": null,
   "metadata": {},
   "outputs": [],
   "source": [
    "# Run when new ACMs start\n",
    "cysh.tracker_mgmt.update_acm_stdnt_validation_sheets(\n",
    "    resource_type='SY19 Coaching Log',\n",
    "    containing_folder='Leadership Team Documents',\n",
    ")"
   ]
  },
  {
   "cell_type": "code",
   "execution_count": null,
   "metadata": {
    "scrolled": true
   },
   "outputs": [],
   "source": [
    "cysh.tracker_mgmt.update_acm_stdnt_validation_sheets(\n",
    "    resource_type='SY19 Leadership Tracker', \n",
    "    containing_folder='Leadership Team Documents',\n",
    ")"
   ]
  },
  {
   "cell_type": "code",
   "execution_count": null,
   "metadata": {},
   "outputs": [],
   "source": [
    "import pandas as pd"
   ]
  },
  {
   "cell_type": "code",
   "execution_count": null,
   "metadata": {},
   "outputs": [],
   "source": [
    "df = cysh.get_sch_ref_df()"
   ]
  },
  {
   "cell_type": "code",
   "execution_count": null,
   "metadata": {},
   "outputs": [],
   "source": [
    "# Run when new ACMs start or students enrolled in attendance\n",
    "cysh.tracker_mgmt.update_acm_stdnt_validation_sheets(\n",
    "    resource_type='SY19 Attendance Tracker',\n",
    "    containing_folder='Team Documents',\n",
    "    sch_ref_df=df.loc[12:]\n",
    ")"
   ]
  },
  {
   "cell_type": "code",
   "execution_count": null,
   "metadata": {},
   "outputs": [],
   "source": [
    "## ToT Audit -- could be a Power BI report, but would need ACM access\n",
    "result = cysh.tot_audit.fix_T1T2ELT()\n",
    "tot_error_df = cysh.tot_audit.get_error_table()\n",
    "cysh.tot_audit.write_error_tables_to_cyconnect(tot_error_df)\n",
    "\n",
    "counts = tot_error_df.groupby(['School', 'Error'])['ACM'].count().reset_index(level='Error').rename(columns={'ACM':'Count'})\n",
    "counts.to_excel(r'Z:\\Impact Analytics Team\\SY19 ToT Audit Error Counts.xlsx')"
   ]
  },
  {
   "cell_type": "code",
   "execution_count": null,
   "metadata": {},
   "outputs": [],
   "source": [
    "## Service Trackers, fails during Herzl, restart at 9, 18\n",
    "#Writing Service Tracker: Schurz High School\n",
    "#Error filling template or saving pdf for D L: (-2147417851, 'The server threw an exception.', None, None)\n",
    "cysh.servicetrackers.update_service_trackers()"
   ]
  },
  {
   "cell_type": "markdown",
   "metadata": {},
   "source": [
    "## Start of Year and As Needed"
   ]
  },
  {
   "cell_type": "code",
   "execution_count": null,
   "metadata": {},
   "outputs": [],
   "source": [
    "cysh.get_object_df('Section__c')"
   ]
  },
  {
   "cell_type": "code",
   "execution_count": null,
   "metadata": {},
   "outputs": [],
   "source": [
    "import pandas as pd\n",
    "\n",
    "df = cysh.get_object_df('Section__c')\n",
    "df['CreatedDate'] = pd.to_datetime(df['CreatedDate'])\n",
    "df[['Name', 'CreatedDate']].sort_values('CreatedDate', ascending=False)"
   ]
  },
  {
   "cell_type": "code",
   "execution_count": null,
   "metadata": {},
   "outputs": [],
   "source": [
    "# double-check all MYACMs have at least one academic section"
   ]
  },
  {
   "cell_type": "code",
   "execution_count": null,
   "metadata": {},
   "outputs": [],
   "source": [
    "## Create Sections\n",
    "df = cysh.section_creation_chi.academic_sections_to_create()\n",
    "df"
   ]
  },
  {
   "cell_type": "code",
   "execution_count": null,
   "metadata": {},
   "outputs": [],
   "source": [
    "cysh.section_creation.section_creation()"
   ]
  },
  {
   "cell_type": "code",
   "execution_count": null,
   "metadata": {},
   "outputs": [],
   "source": [
    "df = cysh.section_creation_chi.non_CP_sections_to_create()\n",
    "df"
   ]
  },
  {
   "cell_type": "code",
   "execution_count": null,
   "metadata": {},
   "outputs": [],
   "source": [
    "cysh.section_creation.section_creation()"
   ]
  },
  {
   "cell_type": "code",
   "execution_count": null,
   "metadata": {},
   "outputs": [],
   "source": [
    "df = cysh.section_creation_chi.MIRI_sections_to_create()\n",
    "df"
   ]
  },
  {
   "cell_type": "code",
   "execution_count": null,
   "metadata": {},
   "outputs": [],
   "source": [
    "cysh.section_creation.section_creation()"
   ]
  },
  {
   "cell_type": "code",
   "execution_count": null,
   "metadata": {},
   "outputs": [],
   "source": [
    "cysh.section_creation_chi.deactivate_all_sections(section_type='50 Acts of Greatness')"
   ]
  },
  {
   "cell_type": "code",
   "execution_count": null,
   "metadata": {},
   "outputs": [],
   "source": [
    "#cysh.tracker_mgmt.deploy_tracker(resource_type='SY19 Attendance Tracker', containing_folder='Team Documents')"
   ]
  },
  {
   "cell_type": "code",
   "execution_count": null,
   "metadata": {},
   "outputs": [],
   "source": [
    "## Distribute Trackers"
   ]
  },
  {
   "cell_type": "markdown",
   "metadata": {},
   "source": [
    "## End of Year"
   ]
  },
  {
   "cell_type": "code",
   "execution_count": null,
   "metadata": {},
   "outputs": [],
   "source": [
    "## Export salesforce Objects\n",
    "\n",
    "## Exit all student_sections"
   ]
  }
 ],
 "metadata": {
  "kernelspec": {
   "display_name": "Python 3",
   "language": "python",
   "name": "python3"
  }
 },
 "nbformat": 4,
 "nbformat_minor": 2
}
