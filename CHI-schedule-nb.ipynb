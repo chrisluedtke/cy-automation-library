{
 "cells": [
  {
   "cell_type": "code",
   "execution_count": null,
   "metadata": {
    "scrolled": true
   },
   "outputs": [],
   "source": [
    "import cyautomation.cyschoolhouse as cysh"
   ]
  },
  {
   "cell_type": "markdown",
   "metadata": {},
   "source": [
    "## Daily"
   ]
  },
  {
   "cell_type": "code",
   "execution_count": null,
   "metadata": {
    "scrolled": true
   },
   "outputs": [],
   "source": [
    "## sync enrollment in DESSA sections\n",
    "results1 = cysh.student_section.enrollment_sync(\n",
    "    source_section = 'Tutoring: Math',\n",
    "    destination_section = 'DESSA',\n",
    "    enrollment_start_date = '2018-09-05',\n",
    "    ACM_to_TL = True\n",
    ")\n",
    "\n",
    "results2 = cysh.student_section.enrollment_sync(\n",
    "    source_section = 'Tutoring: Literacy',\n",
    "    destination_section = 'DESSA',\n",
    "    enrollment_start_date = '2018-09-05',\n",
    "    ACM_to_TL = True\n",
    ")\n",
    "\n",
    "results3 = cysh.student_section.enrollment_sync(\n",
    "    source_section = 'Coaching: Attendance',\n",
    "    destination_section = 'DESSA',\n",
    "    enrollment_start_date = '2018-09-05',\n",
    "    ACM_to_TL = True\n",
    ")\n",
    "\n",
    "# theoretically redundant\n",
    "results4 = cysh.student_section.enrollment_sync(\n",
    "    source_section = 'SEL Check In Check Out',\n",
    "    destination_section = 'DESSA',\n",
    "    enrollment_start_date = '2018-09-05',\n",
    "    ACM_to_TL = True\n",
    ")\n",
    "\n",
    "## sync enrollment in MIRI sections\n",
    "results5 = cysh.student_section.enrollment_sync(\n",
    "    source_section = 'Tutoring: Math',\n",
    "    destination_section = 'Math Inventory',\n",
    "    enrollment_start_date = '2018-09-05'\n",
    ")\n",
    "\n",
    "results6 = cysh.student_section.enrollment_sync(\n",
    "    source_section = 'Tutoring: Literacy',\n",
    "    destination_section = 'Reading Inventory',\n",
    "    enrollment_start_date = '2018-09-05'\n",
    ")"
   ]
  },
  {
   "cell_type": "markdown",
   "metadata": {},
   "source": [
    "## As Needed/Requested"
   ]
  },
  {
   "cell_type": "markdown",
   "metadata": {},
   "source": [
    "#### Add New Students to cyschoolhouse"
   ]
  },
  {
   "cell_type": "code",
   "execution_count": null,
   "metadata": {},
   "outputs": [],
   "source": [
    "## Requires salesforce 2FA\n",
    "cysh.student.upload_all(\n",
    "    xlsx_dir = 'Z:/ChiPrivate/Chicago Data and Evaluation/SY19', \n",
    "    xlsx_name = 'SY19 New Students for cyschoolhouse.xlsx', \n",
    "    enrollment_date='8/3/2018',\n",
    ")"
   ]
  },
  {
   "cell_type": "code",
   "execution_count": null,
   "metadata": {},
   "outputs": [],
   "source": [
    "#from time import sleep\n",
    "#sleep(60)\n",
    "cysh.student.update_student_External_Id()"
   ]
  },
  {
   "cell_type": "markdown",
   "metadata": {},
   "source": [
    "#### Indicator Area Enrollment"
   ]
  },
  {
   "cell_type": "code",
   "execution_count": null,
   "metadata": {
    "scrolled": true
   },
   "outputs": [],
   "source": [
    "# load students to be assigned\n",
    "df = cysh.ia_assignment_chi.get_ia_to_assign()\n",
    "print(len(df), 'student IAs to enroll')"
   ]
  },
  {
   "cell_type": "code",
   "execution_count": null,
   "metadata": {
    "scrolled": true
   },
   "outputs": [],
   "source": [
    "# load browser\n",
    "ia = cysh.ia_assignment_chi.IndicatorAreaEnrollment()"
   ]
  },
  {
   "cell_type": "code",
   "execution_count": null,
   "metadata": {},
   "outputs": [],
   "source": [
    "# Enroll - Requires salesforce 2FA\n",
    "ia.enroll_all_students(max_errors=100)"
   ]
  },
  {
   "cell_type": "code",
   "execution_count": null,
   "metadata": {},
   "outputs": [],
   "source": [
    "# cysh.tracker_mgmt.unprotect_ACM_validation_sheet(resource_type='SY19 Leadership Tracker', containing_folder='Leadership Team Documents')\n",
    "# cysh.tracker_mgmt.unprotect_ACM_validation_sheet(resource_type='SY19 Coaching Log', containing_folder='Leadership Team Documents')"
   ]
  },
  {
   "cell_type": "markdown",
   "metadata": {},
   "source": [
    "## Weekly"
   ]
  },
  {
   "cell_type": "code",
   "execution_count": null,
   "metadata": {},
   "outputs": [],
   "source": [
    "# Run when new ACMs start\n",
    "trackers = cysh.CoachingLog(test=True)\n",
    "trackers.update_all_acm_stdnt_validation_sheets()"
   ]
  },
  {
   "cell_type": "code",
   "execution_count": null,
   "metadata": {},
   "outputs": [],
   "source": [
    "trackers = cysh.LeadershipTracker(test=True)\n",
    "trackers.update_all_acm_stdnt_validation_sheets()"
   ]
  },
  {
   "cell_type": "code",
   "execution_count": null,
   "metadata": {},
   "outputs": [],
   "source": [
    "# Run when new ACMs start (or new students enrolled in attendance)\n",
    "trackers = cysh.AttendanceTracker(test=True)\n",
    "trackers.update_all_acm_stdnt_validation_sheets()"
   ]
  },
  {
   "cell_type": "code",
   "execution_count": null,
   "metadata": {
    "scrolled": true
   },
   "outputs": [],
   "source": [
    "## ToT Audit -- could be a Power BI report, but would need ACM access\n",
    "result = cysh.tot_audit.fix_T1T2ELT()\n",
    "tot_error_df = cysh.tot_audit.get_error_table()\n",
    "cysh.tot_audit.write_error_tables_to_cyconnect(tot_error_df)\n",
    "\n",
    "counts = tot_error_df.groupby(['School', 'Error'])['ACM'].count().reset_index(level='Error').rename(columns={'ACM':'Count'})\n",
    "counts.to_excel('Z:/Impact Analytics Team/SY19 ToT Audit Error Counts.xlsx')"
   ]
  },
  {
   "cell_type": "code",
   "execution_count": null,
   "metadata": {},
   "outputs": [],
   "source": [
    "## Service Trackers\n",
    "cysh.servicetrackers.update_service_trackers()"
   ]
  },
  {
   "cell_type": "markdown",
   "metadata": {},
   "source": [
    "## Start of Year and As Needed"
   ]
  },
  {
   "cell_type": "code",
   "execution_count": null,
   "metadata": {},
   "outputs": [],
   "source": [
    "att_trackers = cysh.AttendanceTracker(test=True)\n",
    "att_trackers.deploy_all()"
   ]
  },
  {
   "cell_type": "code",
   "execution_count": null,
   "metadata": {},
   "outputs": [],
   "source": [
    "ldr_trackers = cysh.LeadershipTracker(test=True)\n",
    "ldr_trackers.deploy_all()"
   ]
  },
  {
   "cell_type": "code",
   "execution_count": null,
   "metadata": {},
   "outputs": [],
   "source": [
    "cch_trackers = cysh.CoachingLog(test=True)\n",
    "cch_trackers.deploy_all()"
   ]
  },
  {
   "cell_type": "code",
   "execution_count": null,
   "metadata": {},
   "outputs": [],
   "source": [
    "## Create Sections -- Requires salesforce 2FA\n",
    "df = cysh.section_creation_chi.academic_sections_to_create()\n",
    "df"
   ]
  },
  {
   "cell_type": "code",
   "execution_count": null,
   "metadata": {},
   "outputs": [],
   "source": [
    "cysh.section_creation.section_creation?"
   ]
  },
  {
   "cell_type": "code",
   "execution_count": null,
   "metadata": {},
   "outputs": [],
   "source": [
    "df = cysh.section_creation_chi.non_CP_sections_to_create()\n",
    "df"
   ]
  },
  {
   "cell_type": "code",
   "execution_count": null,
   "metadata": {},
   "outputs": [],
   "source": [
    "cysh.section_creation.section_creation()"
   ]
  },
  {
   "cell_type": "code",
   "execution_count": null,
   "metadata": {},
   "outputs": [],
   "source": [
    "df = cysh.section_creation_chi.MIRI_sections_to_create()\n",
    "df"
   ]
  },
  {
   "cell_type": "code",
   "execution_count": null,
   "metadata": {},
   "outputs": [],
   "source": [
    "cysh.section_creation.section_creation()"
   ]
  },
  {
   "cell_type": "code",
   "execution_count": null,
   "metadata": {},
   "outputs": [],
   "source": [
    "cysh.section_creation_chi.deactivate_all_sections(section_type='50 Acts of Greatness')"
   ]
  },
  {
   "cell_type": "code",
   "execution_count": null,
   "metadata": {},
   "outputs": [],
   "source": [
    "## Distribute Trackers\n",
    "#cysh.tracker_mgmt.deploy_tracker(resource_type='SY19 Attendance Tracker', containing_folder='Team Documents')"
   ]
  },
  {
   "cell_type": "markdown",
   "metadata": {},
   "source": [
    "## End of Year"
   ]
  },
  {
   "cell_type": "code",
   "execution_count": null,
   "metadata": {},
   "outputs": [],
   "source": [
    "## Export salesforce Objects\n",
    "\n",
    "## Exit all student_sections"
   ]
  },
  {
   "cell_type": "markdown",
   "metadata": {},
   "source": [
    "# Misc."
   ]
  },
  {
   "cell_type": "code",
   "execution_count": null,
   "metadata": {},
   "outputs": [],
   "source": [
    "# # Associate TLs with their ACMs' SEL sections\n",
    "\n",
    "# section_df = cysh.get_object_df('Section__c')\n",
    "# section_df = section_df.loc[section_df['Name'].str.contains('SEL')]\n",
    "\n",
    "# staff_df = cysh.get_object_df('Staff__c', ['Id', 'Name', 'Role__c', 'Organization__c'])\n",
    "# staff_df = staff_df.loc[staff_df['Role__c'].str.contains('Team Lead')==True]\n",
    "\n",
    "# staff_section_df = cysh.get_object_df('Staff_Section__c')\n",
    "\n",
    "# results = []\n",
    "# for index, row in section_df.iterrows():\n",
    "#     if len(staff_section_df.loc[staff_section_df['Section__c']==row['Id']]) > 1:\n",
    "#         print(f\"ERROR: Section: {row['Id']} already has more than 1 staff associated\")\n",
    "#         continue\n",
    "#     staff = staff_df.loc[staff_df['Organization__c']==row['School__c'], 'Id']\n",
    "#     if len(staff) != 1:\n",
    "#         print(f\"ERROR: 0 or many Team Leaders associated with school: {row['School__c']}\")\n",
    "#         continue\n",
    "#     staff_section_dict = {}\n",
    "#     staff_section_dict['Account__c'] = row['School__c']\n",
    "#     staff_section_dict['Section__c'] = row['Id']\n",
    "#     staff_section_dict['Staff__c'] = staff.values[0]\n",
    "#     staff_section_dict['Intervention_Primary_Staff__c'] = False\n",
    "    \n",
    "#     result = cysh.sf.Staff_Section__c.create(staff_section_dict)\n",
    "#     results.append(result)\n",
    "\n",
    "# sch_ref_df = pd.read_excel(r'Z:\\ChiPrivate\\Chicago Data and Evaluation\\SY19\\SY19 School Reference.xlsx')\n",
    "# \n",
    "# tracker.fill_all_coaching_log_acm_rollup(sch_ref_df.loc[sch_ref_df['Informal Name']=='Chicago Academy'])"
   ]
  }
 ],
 "metadata": {
  "kernelspec": {
   "display_name": "Python 3",
   "language": "python",
   "name": "python3"
  },
  "language_info": {
   "codemirror_mode": {
    "name": "ipython",
    "version": 3
   },
   "file_extension": ".py",
   "mimetype": "text/x-python",
   "name": "python",
   "nbconvert_exporter": "python",
   "pygments_lexer": "ipython3",
   "version": "3.6.8"
  }
 },
 "nbformat": 4,
 "nbformat_minor": 2
}
