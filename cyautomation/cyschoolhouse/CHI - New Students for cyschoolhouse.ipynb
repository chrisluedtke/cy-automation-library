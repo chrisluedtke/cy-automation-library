{
 "cells": [
  {
   "cell_type": "code",
   "execution_count": 1,
   "metadata": {},
   "outputs": [],
   "source": [
    "import pandas as pd\n",
    "from add_students_to_cysh import *"
   ]
  },
  {
   "cell_type": "code",
   "execution_count": null,
   "metadata": {},
   "outputs": [],
   "source": [
    "xlsx_dir = r'C:\\Users\\City_Year\\Downloads\\\\'\n",
    "xlsx_name = 'New Students for cyschoolhouse(1-11).xlsx'\n",
    "intervention_student_setup(xlsx_dir, xlsx_name, cysh, enrollment_date='8/3/2018')"
   ]
  },
  {
   "cell_type": "code",
   "execution_count": 28,
   "metadata": {},
   "outputs": [],
   "source": [
    "## This is how the task would be accomplished via salesforce API, if only I could edit the fields\n",
    "\n",
    "# df = pd.read_excel(r'C:\\Users\\City_Year\\Downloads\\New Students for cyschoolhouse(1-11).xlsx')\n",
    "# school_df = get_cysh_df('Account', ['Id', 'Name'])\n",
    "# df = df.merge(school_df, how='left', left_on='School', right_on='Name')\n",
    "# \n",
    "# drop_ids = []\n",
    "# for index, row in df.iterrows():\n",
    "#     search_result = cysh.query(f\"SELECT Id FROM Student__c WHERE Local_Student_ID__c = '{row['Student CPS ID']}'\")\n",
    "#     if len(search_result['records']) > 0:\n",
    "#         drop_ids.append(row['Student CPS ID'])\n",
    "# df = df.loc[~df['Student CPS ID'].isin(drop_ids)]\n",
    "# \n",
    "# for index, row in df.iterrows():\n",
    "#     stu_dict = {\n",
    "#         'Local_Student_ID__c':str(row['Student CPS ID']),\n",
    "#         'School__c':row['Id'],\n",
    "#         'Name':(row['Student First Name'] + ' ' + row['Student Last Name']),\n",
    "#         'Student_Last_Name__c':row['Student Last Name'],\n",
    "#         'Grade__c':str(row['Student Grade Level']), \n",
    "#         #'School_Name__c':row['Name_y'],\n",
    "#     }"
   ]
  }
 ],
 "metadata": {
  "kernelspec": {
   "display_name": "Python 3",
   "language": "python",
   "name": "python3"
  },
  "language_info": {
   "codemirror_mode": {
    "name": "ipython",
    "version": 3
   },
   "file_extension": ".py",
   "mimetype": "text/x-python",
   "name": "python",
   "nbconvert_exporter": "python",
   "pygments_lexer": "ipython3",
   "version": "3.6.4"
  }
 },
 "nbformat": 4,
 "nbformat_minor": 2
}
