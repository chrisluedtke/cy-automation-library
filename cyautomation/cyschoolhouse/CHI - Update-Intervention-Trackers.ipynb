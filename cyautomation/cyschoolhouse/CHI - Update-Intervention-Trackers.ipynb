{
 "cells": [
  {
   "cell_type": "code",
   "execution_count": 1,
   "metadata": {},
   "outputs": [],
   "source": [
    "from cyschoolhousesuite import *\n",
    "import xlwings as xw\n",
    "\n",
    "sch_ref_path = r'Z:\\ChiPrivate\\Chicago Data and Evaluation\\SY18\\SY18 Team Placement\\SY18 FINAL Team Placements.xlsx'\n",
    "sch_ref_df = pd.read_excel(sch_ref_path, sheet_name=\"School Data\")\n",
    "sch_ref_df = sch_ref_df.loc[~sch_ref_df['School'].isnull()]\n",
    "\n",
    "CP_df = get_report(\"00O1a000002rm2S\")\n",
    "CP_df = CP_df.loc[CP_df['Program: Program Name'].str.contains(\"Tutoring\")]\n",
    "CP_df.replace(to_replace='Tutoring: Literacy', value='ELA', inplace=True)\n",
    "CP_df.replace(to_replace='Tutoring: Math', value='Math', inplace=True)\n",
    "CP_df['Key'] = CP_df['Student: Student Name'] + \" - \" + CP_df['Program: Program Name'] + \" - \" + CP_df['Intervention Primary Staff: Staff Name']\n",
    "CP_df.sort_values(by=['Account Name', 'Key'], inplace=True)\n",
    "\n",
    "CP_df = CP_df[[\n",
    "    'Account Name',\n",
    "    'Intervention Primary Staff: Staff Name',\n",
    "    'Key',\n",
    "    'Student Id',\n",
    "    'Student/Section ID'\n",
    "]]"
   ]
  },
  {
   "cell_type": "code",
   "execution_count": null,
   "metadata": {},
   "outputs": [],
   "source": [
    "# Update existing files\n",
    "for index, row in sch_ref_df.iterrows():\n",
    "    try:\n",
    "        file_path = (\"Z:\\\\\" + row['cyconnect Folder'] + \"\\\\\" + \"SY18 Intervention Tracker - \"\n",
    "                     + row['Informal School Name'] + \".xlsx\")\n",
    "        wb = xw.Book(file_path)\n",
    "        sht = wb.sheets[\"ACMs and Students - Don't Edit\"]\n",
    "        df = CP_df.loc[CP_df['Account Name']==row['School']].copy()\n",
    "        sht.range('A2:D200').value = \".\"\n",
    "        sht.range('A2').options(index=False, header=False).value = df[['Intervention Primary Staff: Staff Name',\n",
    "                                                                       'Key',\n",
    "                                                                       'Student Id',\n",
    "                                                                       'Student/Section ID']]\n",
    "        wb.save(file_path)\n",
    "    except Exception as e:\n",
    "        print(f\"Failed: {x}: {e}\")\n",
    "        continue\n",
    "    wb.close()"
   ]
  },
  {
   "cell_type": "code",
   "execution_count": 2,
   "metadata": {},
   "outputs": [],
   "source": [
    "## Distribute new file\n",
    "#wb = xw.Book(\"Z:\\\\ChiPrivate\\\\Chicago Reports and Evaluation\\\\SY18\\\\Eval Management\\\\Templates\\\\Intervention Tracker Template.xlsx\")\n",
    "#sht = wb.sheets[\"ACMs and Students - Don't Edit\"]\n",
    "#\n",
    "##file_path = (\"Z:\\\\\" + x + \"\\\\\" + \"SY18 Intervention Tracker - \"\n",
    "##                     + sch_ref_df['Informal School Name'][sch_ref_df['cyconnect Folder'] == x].values[0] + \".xlsx\")\n",
    "#\n",
    "#for x in sch_ref_df['cyconnect Folder'].unique():\n",
    "#    df = CP_df[CP_df['Account Name']==sch_ref_df['School'][sch_ref_df['cyconnect Folder'] == x].values[0]]\n",
    "#    sht.range('A2:D200').value = \".\"\n",
    "#    sht.range('A2').options(index=False, header=False).value = df[cols2]\n",
    "#    \n",
    "#    wb.save(\"Z:\\\\\" + x + \"\\\\\" + \"SY18 Intervention Tracker - \"\n",
    "#            + sch_ref_df['Informal School Name'][sch_ref_df['cyconnect Folder'] == x].values[0] + \".xlsx\")\n",
    "#\n",
    "#wb.close()"
   ]
  }
 ],
 "metadata": {
  "kernelspec": {
   "display_name": "Python 3",
   "language": "python",
   "name": "python3"
  },
  "language_info": {
   "codemirror_mode": {
    "name": "ipython",
    "version": 3
   },
   "file_extension": ".py",
   "mimetype": "text/x-python",
   "name": "python",
   "nbconvert_exporter": "python",
   "pygments_lexer": "ipython3",
   "version": "3.6.4"
  }
 },
 "nbformat": 4,
 "nbformat_minor": 2
}
