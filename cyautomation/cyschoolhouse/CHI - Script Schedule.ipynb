{
 "cells": [
  {
   "cell_type": "code",
   "execution_count": 1,
   "metadata": {},
   "outputs": [],
   "source": [
    "from simple_cysh import *\n",
    "from add_students_to_cysh import *\n",
    "from ToT_audit import *\n",
    "import xlwings as xw"
   ]
  },
  {
   "cell_type": "code",
   "execution_count": null,
   "metadata": {
    "scrolled": true
   },
   "outputs": [],
   "source": [
    "# Demo of how to pull student object\n",
    "school_df = get_cysh_df('Account', ['Id', 'Name'])\n",
    "student_df = get_cysh_df('Student__c', ['Id', 'Name', 'Local_Student_ID__c', 'School__c'], where=f\"School__c IN ({str(school_df['Id'].tolist())[1:-1]})\")"
   ]
  },
  {
   "cell_type": "markdown",
   "metadata": {},
   "source": [
    "## Daily"
   ]
  },
  {
   "cell_type": "code",
   "execution_count": 2,
   "metadata": {},
   "outputs": [
    {
     "name": "stdout",
     "output_type": "stream",
     "text": [
      "Enrolling 2 students from Tutoring: Math to DESSA sections.\n",
      "Enrolling 3 students from Tutoring: Literacy to DESSA sections.\n",
      "Enrolling 1 students from Tutoring: Math to Math Inventory sections.\n",
      "Enrolling 0 students from Tutoring: Literacy to Reading Inventory sections.\n"
     ]
    }
   ],
   "source": [
    "## sync enrollment in DESSA sections\n",
    "results1 = section_enrollment_sync(\n",
    "    source_section = 'Tutoring: Math',\n",
    "    destination_section = 'DESSA',\n",
    "    enrollment_start_date = '2018-09-05',\n",
    "    ACM_to_TL = True\n",
    ")\n",
    "\n",
    "results2 = section_enrollment_sync(\n",
    "    source_section = 'Tutoring: Literacy',\n",
    "    destination_section = 'DESSA',\n",
    "    enrollment_start_date = '2018-09-05',\n",
    "    ACM_to_TL = True\n",
    ")\n",
    "\n",
    "## sync enrollment in MIRI sections\n",
    "results3 = section_enrollment_sync(\n",
    "    source_section = 'Tutoring: Math',\n",
    "    destination_section = 'Math Inventory',\n",
    "    enrollment_start_date = '2018-09-05'\n",
    ")\n",
    "\n",
    "results4 = section_enrollment_sync(\n",
    "    source_section = 'Tutoring: Literacy',\n",
    "    destination_section = 'Reading Inventory',\n",
    "    enrollment_start_date = '2018-09-05'\n",
    ")"
   ]
  },
  {
   "cell_type": "code",
   "execution_count": null,
   "metadata": {},
   "outputs": [],
   "source": [
    "## Student Rosters (attendance tracker)"
   ]
  },
  {
   "cell_type": "code",
   "execution_count": 3,
   "metadata": {},
   "outputs": [],
   "source": [
    "## Add New Students to cyschoolhouse\n",
    "xlsx_dir = r'C:\\Users\\City_Year\\Downloads\\\\'\n",
    "xlsx_name = 'New Students for cyschoolhouse(1-21).xlsx'\n",
    "intervention_student_setup(xlsx_dir, xlsx_name, cysh, enrollment_date='8/3/2018')"
   ]
  },
  {
   "cell_type": "markdown",
   "metadata": {},
   "source": [
    "## Weekly"
   ]
  },
  {
   "cell_type": "code",
   "execution_count": null,
   "metadata": {},
   "outputs": [],
   "source": [
    "## ToT Audit -- could be a Power BI report\n",
    "fix_t1t2_entries()\n",
    "tot_error_df = get_ToT_error_table()\n",
    "write_tot_error_tables_to_cyconnect(tot_error_df)\n",
    "counts = tot_error_df.groupby(['School', 'Error'])['ACM'].count().reset_index(level='Error').rename(columns={'ACM':'Count'})\n",
    "counts.to_excel(r'Z:\\ChiPrivate\\Chicago Data and Evaluation\\SY19\\SY19 ToT Audit Error Counts.xlsx')\n",
    "## ACM Rosters (coaching log, attendance tracker, leadership tracker)\n",
    "\n",
    "## Service Trackers"
   ]
  },
  {
   "cell_type": "markdown",
   "metadata": {},
   "source": [
    "## Start of Year"
   ]
  },
  {
   "cell_type": "code",
   "execution_count": null,
   "metadata": {},
   "outputs": [],
   "source": [
    "## Create Sections\n",
    "## Distribute Trackers"
   ]
  },
  {
   "cell_type": "markdown",
   "metadata": {},
   "source": [
    "## End of Year"
   ]
  },
  {
   "cell_type": "code",
   "execution_count": null,
   "metadata": {},
   "outputs": [],
   "source": [
    "## Export Objects\n",
    "## Exit all student_sections"
   ]
  }
 ],
 "metadata": {
  "kernelspec": {
   "display_name": "Python 3",
   "language": "python",
   "name": "python3"
  },
  "language_info": {
   "codemirror_mode": {
    "name": "ipython",
    "version": 3
   },
   "file_extension": ".py",
   "mimetype": "text/x-python",
   "name": "python",
   "nbconvert_exporter": "python",
   "pygments_lexer": "ipython3",
   "version": "3.6.4"
  }
 },
 "nbformat": 4,
 "nbformat_minor": 2
}
