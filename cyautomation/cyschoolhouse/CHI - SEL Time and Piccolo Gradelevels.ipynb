{
 "cells": [
  {
   "cell_type": "code",
   "execution_count": null,
   "metadata": {},
   "outputs": [],
   "source": [
    "from simple_sf_cysch import *"
   ]
  },
  {
   "cell_type": "code",
   "execution_count": null,
   "metadata": {},
   "outputs": [],
   "source": [
    "dessa_df = pd.read_csv(\"C:\\\\Users\\\\CLuedtke\\\\Downloads\\\\data.csv\")\n",
    "dessa_df = dessa_df.drop('Id', axis=1)\n",
    "dessa_df.loc[:, 'Date'] = pd.to_datetime(dessa_df['Date']).dt.strftime(\"%m/%d/%Y\")\n",
    "dessa_df"
   ]
  },
  {
   "cell_type": "code",
   "execution_count": null,
   "metadata": {},
   "outputs": [],
   "source": [
    "sch_ref_path = \"Z:\\\\ChiPrivate\\\\Chicago Data and Evaluation\\\\SY18\\\\SY18 Team Placement\\\\SY18 FINAL Team Placements.xlsx\"\n",
    "sch_ref_df = pd.read_excel(sch_ref_path, sheetname=\"School Data\")"
   ]
  },
  {
   "cell_type": "code",
   "execution_count": null,
   "metadata": {},
   "outputs": [],
   "source": [
    "for school in dessa_df['School'].unique():\n",
    "    df = dessa_df.loc[dessa_df['School']==school]\n",
    "    school_info = sch_ref_df[sch_ref_df['Informal School Name']==school]\n",
    "    path = \"Z:\\\\\" + school_info['cyconnect Folder'].values[0] + \"\\\\\" + \"DESSA ToT to Re-enter in SEL - \" + school_info['Informal School Name'].values[0] + \".xlsx\"\n",
    "    df.to_excel(path, header=True, index=False)"
   ]
  },
  {
   "cell_type": "code",
   "execution_count": null,
   "metadata": {
    "scrolled": true
   },
   "outputs": [],
   "source": [
    "dessa_df.groupby('School')['Date'].count()"
   ]
  },
  {
   "cell_type": "code",
   "execution_count": null,
   "metadata": {},
   "outputs": [],
   "source": [
    "student__c = get_sf_df('Student__c', ['Id', 'Name', 'Grade__c', 'School__c'])\n",
    "# filter to Piccolo\n",
    "student__c = student__c[student__c['School__c']=='0011a00000j2XljAAE']\n",
    "\n",
    "student_section_df = get_sf_df('Student_Section__c', ['Id', 'Name', 'Section_Name__c', 'Student__c'])\n",
    "student_section_df = student_section_df[student_section_df['Section_Name__c'].str.contains(\"Grade\")]\n",
    "\n",
    "df = student__c.merge(student_section_df, how='left', left_on='Id', right_on='Student__c')\n",
    "\n",
    "df = df[~df['Section_Name__c'].isnull()]\n",
    "\n",
    "df['Section_Grade'] = df['Section_Name__c'].apply(lambda x: x[54])\n",
    "\n",
    "df['missmatched'] = df['Section_Grade'].astype(int) - df['Grade__c'].astype(int)\n",
    "\n",
    "df = df[df['missmatched']!=0]\n",
    "\n",
    "df"
   ]
  },
  {
   "cell_type": "code",
   "execution_count": null,
   "metadata": {},
   "outputs": [],
   "source": [
    "# sf.Student__c.update('a1U1a000001GUFWEA4', {'Grade__c':str(4)})"
   ]
  }
 ],
 "metadata": {
  "kernelspec": {
   "display_name": "Python 3",
   "language": "python",
   "name": "python3"
  },
  "language_info": {
   "codemirror_mode": {
    "name": "ipython",
    "version": 3
   },
   "file_extension": ".py",
   "mimetype": "text/x-python",
   "name": "python",
   "nbconvert_exporter": "python",
   "pygments_lexer": "ipython3",
   "version": "3.6.4"
  }
 },
 "nbformat": 4,
 "nbformat_minor": 2
}
