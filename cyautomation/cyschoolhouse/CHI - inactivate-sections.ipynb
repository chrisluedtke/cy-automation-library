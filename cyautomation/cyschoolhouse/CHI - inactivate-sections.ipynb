{
 "cells": [
  {
   "cell_type": "code",
   "execution_count": null,
   "metadata": {},
   "outputs": [],
   "source": [
    "from cyschoolhousesuite import *\n",
    "from selenium.webdriver.support.ui import Select\n",
    "import numpy as np\n",
    "\n",
    "# xlsx requires column \"Time ID\" with ISR records to delete\n",
    "path_to_xlsx = \"C:\\\\Users\\\\CLuedtke\\\\GitHub\\\\cy-automation-library\\\\cyautomation\\\\cyschoolhouse\\\\input_files\\\\sections-to-delete.xlsx\"\n",
    "\n",
    "def import_parameters(path_to_xlsx):\n",
    "    \"\"\"Imports input data from xlsx\n",
    "    \"\"\"\n",
    "    df = pd.read_excel(path_to_xlsx)\n",
    "    #df = df[pd.isnull(df['z_DELETED?'])]\n",
    "    return df\n",
    "\n",
    "def nav_to_section(driver, section_name):\n",
    "    driver.find_element_by_xpath('//*[@id=\"sbstr\"]').clear()\n",
    "    driver.find_element_by_xpath('//*[@id=\"sbstr\"]').send_keys(section_name)\n",
    "    driver.find_element_by_xpath('//*[@id=\"sbstr\"]').send_keys(Keys.RETURN)\n",
    "\n",
    "def set_to_inactive(driver):\n",
    "    WebDriverWait(driver, 5).until(EC.presence_of_element_located((By.XPATH, \".//td[contains(@id, '00N1a000006Sysh_ilecell')]\")))\n",
    "    # Couldn't find a better way to reliably wait for/engage the element than to wait\n",
    "    sleep(2.5)\n",
    "    driver.find_element_by_xpath(\".//td[contains(@id, '00N1a000006Sysh_ilecell')]\").send_keys(Keys.RETURN)\n",
    "    WebDriverWait(driver, 5).until(EC.visibility_of_element_located((By.XPATH, \".//input[contains(@id, '00N1a000006Sysh')]\")))\n",
    "    driver.find_element_by_xpath(\".//input[contains(@id, '00N1a000006Sysh')]\").click()\n",
    "    WebDriverWait(driver, 5).until(EC.visibility_of_element_located((By.XPATH, \".//input[contains(@class, 'btn') and contains(@value, ' Save ')]\")))\n",
    "    driver.find_element_by_xpath(\".//input[contains(@class, 'btn') and contains(@value, ' Save ')]\").click()\n",
    "    WebDriverWait(driver, 5).until(EC.visibility_of_element_located((By.XPATH, \".//input[contains(@class, 'btn') and contains(@value, ' Edit ')]\")))\n",
    "    \n",
    "# runs the entire test script\n",
    "def delete_sections():\n",
    "    params = import_parameters(path_to_xlsx)\n",
    "    driver = get_driver()\n",
    "    open_cyschoolhouse18(driver)\n",
    "    \n",
    "    for section_name in params['Section Name'].unique():\n",
    "        nav_to_section(driver, section_name)\n",
    "        try:\n",
    "            set_to_inactive(driver)\n",
    "        except:\n",
    "            print(\"Failed: \" + section_name)\n",
    "            continue\n",
    "\n",
    "    driver.quit()\n",
    "    \n",
    "if __name__ == '__main__':\n",
    "    delete_sections()"
   ]
  }
 ],
 "metadata": {
  "kernelspec": {
   "display_name": "Python 3",
   "language": "python",
   "name": "python3"
  },
  "language_info": {
   "codemirror_mode": {
    "name": "ipython",
    "version": 3
   },
   "file_extension": ".py",
   "mimetype": "text/x-python",
   "name": "python",
   "nbconvert_exporter": "python",
   "pygments_lexer": "ipython3",
   "version": "3.6.4"
  }
 },
 "nbformat": 4,
 "nbformat_minor": 2
}
