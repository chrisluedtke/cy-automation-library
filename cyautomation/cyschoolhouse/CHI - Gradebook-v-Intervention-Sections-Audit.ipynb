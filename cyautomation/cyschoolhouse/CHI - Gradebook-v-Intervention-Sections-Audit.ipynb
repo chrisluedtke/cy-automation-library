{
 "cells": [
  {
   "cell_type": "code",
   "execution_count": null,
   "metadata": {},
   "outputs": [],
   "source": [
    "from cyschoolhousesuite import *\n",
    "from selenium.webdriver.common.action_chains import ActionChains\n",
    "import numpy as np\n",
    "import pdb"
   ]
  },
  {
   "cell_type": "code",
   "execution_count": null,
   "metadata": {},
   "outputs": [],
   "source": [
    "stdnt_sctn_df = get_report(\"00O1a000002rl1s\")\n",
    "\n",
    "stdnt_sctn_df['Program: Program Name'].loc[stdnt_sctn_df['Section Name'].str.contains(\"Grade\") & stdnt_sctn_df['Section Name'].str.contains(\"Math\")] = \"Tutoring: Math\"\n",
    "stdnt_sctn_df['Program: Program Name'].loc[stdnt_sctn_df['Section Name'].str.contains(\"Grade\") & stdnt_sctn_df['Section Name'].str.contains(\"Literacy\")] = \"Tutoring: Literacy\"\n",
    "\n",
    "stdnt_sctn_df['Key'] = stdnt_sctn_df['Student: Student Id'] + stdnt_sctn_df['Program: Program Name']\n",
    "\n",
    "gb_df = stdnt_sctn_df.loc[stdnt_sctn_df['Section Name'].str.contains(\"Grade\")]\n",
    "fl_df = stdnt_sctn_df.loc[stdnt_sctn_df['Section Name'].str.contains(\"Tutoring\")]\n",
    "\n",
    "# Create group object\n",
    "sums = fl_df[['Key', \n",
    "              'In School/ Extended Learning',\n",
    "              'Student: Student Id',\n",
    "              'Active']].groupby(['Key',\n",
    "                                  'In School/ Extended Learning',\n",
    "                                  'Student: Student Id']).sum()\n",
    "# Apply sum function\n",
    "sums = sums.reset_index()\n",
    "enrolled_in_fl = sums.loc[(sums['In School/ Extended Learning']=='In School') & (sums['Active']>0)]\n",
    "unenrolled_from_all_fl = sums.loc[(sums['In School/ Extended Learning']=='In School') & (sums['Active']==0)]"
   ]
  },
  {
   "cell_type": "code",
   "execution_count": null,
   "metadata": {
    "scrolled": true
   },
   "outputs": [],
   "source": [
    "add_to_gb = enrolled_in_fl.loc[~enrolled_in_fl['Key'].isin(gb_df['Key'])]\n",
    "rmv_frm_gb = gb_df.loc[gb_df['Key'].isin(unenrolled_from_all_fl['Key'])]\n",
    "\n",
    "df = add_to_gb.merge(fl_df[['Key', 'Account Name', 'Student: Grade', 'Program: Program Name']].drop_duplicates(subset='Key'), how='left', on='Key')\n",
    "\n",
    "df['Program: Program Name'].loc[df['Program: Program Name'].str.contains(\"Literacy\")] = \"ELA/Literacy\"\n",
    "df['Program: Program Name'].loc[df['Program: Program Name'].str.contains(\"Math\")] = \"Math\"\n",
    "\n",
    "df['New Section'] = df['Account Name'] + \" - Grade \" + df['Student: Grade'].astype(str) + \" - \" + df['Program: Program Name']\n",
    "\n",
    "print(\"{} students to add to gradebook sections\".format(len(add_to_gb)))\n",
    "\n",
    "# CY-351885 Dulles School of Excellence - Grade 4 - ELA/Literacy ... start date entered as 12/05/2017\n",
    "# CY-351892 Dulles School of Excellence - Grade 8 - Math ... start date entered as 12/05/2017\n",
    "# CY-351651 too\n",
    "# CY-352742 too\n",
    "# Run audit for students with section start dates greater than 7/1/2017"
   ]
  },
  {
   "cell_type": "code",
   "execution_count": null,
   "metadata": {},
   "outputs": [],
   "source": [
    "# Add Students to Gradebook Sections\n",
    "driver = get_driver()\n",
    "open_cyschoolhouse18(driver)\n",
    "\n",
    "wait = 10\n",
    "entry_date = \"07-01-2017\"\n",
    "\n",
    "for school in df['Account Name'].unique():\n",
    "    # iterate by school\n",
    "    print(\"Starting: \" + school)\n",
    "    driver.get(\"https://c.na24.visual.force.com/apex/core_ChangeSchool\")\n",
    "    driver.find_element_by_xpath(\"//select[@name='j_id0:j_id30:j_id32']/option[text()=\\\"%s\\\"]\" % school).click()\n",
    "    sleep(2)\n",
    "    driver.find_element_by_xpath(\"//input[contains(@class, 'btn') and contains(@value, 'Change')]\").click()\n",
    "    sleep(2)\n",
    "    \n",
    "    for index, row in df.loc[df['Account Name']==school].iterrows():\n",
    "        # iterate by student in school\n",
    "        print('Starting: student: {}'.format(row['New Section']))\n",
    "        driver.get(\"https://c.na24.visual.force.com/apex/Scheduler_SectionWizard\")\n",
    "\n",
    "        driver.find_element_by_xpath(\"//*[@id='thePage:j_id70:j_id71:j_id74']\").click()\n",
    "        WebDriverWait(driver, 10).until(EC.presence_of_element_located((By.XPATH, \"//*[@id='thePage:j_id70:j_id71:j_id123']\")))\n",
    "        driver.find_element_by_xpath(\"//*[@id='thePage:j_id70:j_id71:j_id123']\").click()\n",
    "        WebDriverWait(driver, 10).until(EC.presence_of_element_located((By.XPATH, \".//input[contains(@aria-controls, 'DataTables_Table_0')]\")))\n",
    "        # Search for and select student\n",
    "        try:\n",
    "            driver.find_element_by_xpath(\".//input[contains(@aria-controls, 'DataTables_Table_0')]\").clear()\n",
    "            driver.find_element_by_xpath(\".//input[contains(@aria-controls, 'DataTables_Table_0')]\").send_keys(row['Student: Student Id'])\n",
    "            driver.find_element_by_xpath(\".//input[contains(@class, 'searchResultCb')]\").click()\n",
    "            driver.find_element_by_xpath(\"//*[@id='thePage:j_id70:j_id71:j_id144']\").click()\n",
    "        except:\n",
    "            print('Failed: Could not select student: ' + row['Student: Student Id'])\n",
    "            continue\n",
    "        # Enter section details\n",
    "        try:\n",
    "            WebDriverWait(driver, 3).until(EC.presence_of_element_located((By.XPATH, \"//input[contains(@aria-controls, 'thePage:j_id70:j_id71:j_id182')]\")))\n",
    "            # ensure section name is in the 'Available Sections' table rather than 'Current Sections'\n",
    "            driver.find_element_by_xpath(\"//*[contains(@class, 'tablesorter dataTable') and contains(@title, 'Available Sections')][.//*[contains(.,\\\"%s\\\")]]\"% row['New Section'])\n",
    "            driver.find_element_by_xpath(\"//input[contains(@aria-controls, 'thePage:j_id70:j_id71:j_id182')]\").send_keys(row['New Section'][-4:])\n",
    "            driver.find_element_by_xpath(\"//span[contains(text(), \\\"%s\\\") and contains(@id, 'thePage')]\" % row['New Section']).click()\n",
    "            ActionChains(driver).key_down(Keys.SHIFT).send_keys(Keys.TAB).send_keys(Keys.TAB).key_up(Keys.SHIFT).send_keys(Keys.SPACE).perform()\n",
    "            ActionChains(driver).send_keys(Keys.TAB).send_keys(Keys.TAB).send_keys(entry_date).send_keys(Keys.RETURN).perform()\n",
    "            # press save\n",
    "            driver.find_element_by_xpath(\"//input[contains(@type, 'button') and contains(@value, 'SAVE')]\").send_keys(Keys.SPACE)\n",
    "        except:\n",
    "            print('Failed: Could not select section: ' + row['New Section'])\n",
    "            continue\n",
    "\n",
    "        fancy_box_wait(driver, waittime=10)\n",
    "\n",
    "        # Confirm successful\n",
    "        while 'Changes saved!' not in driver.find_element_by_tag_name(\"body\").text:\n",
    "            sleep(.5)\n",
    "\n",
    "driver.quit()"
   ]
  }
 ],
 "metadata": {
  "kernelspec": {
   "display_name": "Python 3",
   "language": "python",
   "name": "python3"
  },
  "language_info": {
   "codemirror_mode": {
    "name": "ipython",
    "version": 3
   },
   "file_extension": ".py",
   "mimetype": "text/x-python",
   "name": "python",
   "nbconvert_exporter": "python",
   "pygments_lexer": "ipython3",
   "version": "3.6.4"
  }
 },
 "nbformat": 4,
 "nbformat_minor": 2
}
