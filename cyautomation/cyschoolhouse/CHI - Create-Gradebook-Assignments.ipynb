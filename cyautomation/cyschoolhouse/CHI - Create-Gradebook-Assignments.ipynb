{
 "cells": [
  {
   "cell_type": "code",
   "execution_count": 1,
   "metadata": {
    "collapsed": true
   },
   "outputs": [],
   "source": [
    "from cyschoolhousesuite import *\n",
    "from selenium.webdriver.common.action_chains import ActionChains\n",
    "from selenium.webdriver.support.ui import Select\n",
    "import numpy as np\n",
    "\n",
    "def click_delete(driver):\n",
    "    driver.find_element_by_xpath('//input[contains(@value, \"Delete\")]').click()\n",
    "    EC.alert_is_present\n",
    "    driver.switch_to.alert.accept()\n",
    "    WebDriverWait(driver, 5).until(EC.presence_of_element_located((By.XPATH, '/html/body/div/div[3]/table/tbody/tr/td[2]/div[2]/form/div/span/span[1]/input')))\n",
    "\n",
    "sch_ref_path = \"Z:\\\\ChiPrivate\\\\Chicago Data and Evaluation\\\\SY18\\\\SY18 Team Placement\\\\SY18 FINAL Team Placements.xlsx\"\n",
    "sch_ref_df = pd.read_excel(sch_ref_path, sheetname=\"School Data\")\n",
    "\n",
    "d = {'Reporting Perdiod': ['Quarter 2', 'Quarter 3', 'Quarter 4'], \n",
    "     'Qtr': ['Qtr 2', 'Qtr 3', 'Qtr 4'],\n",
    "     'Q': ['Q2', 'Q3', 'Q4'],\n",
    "     'Due Date': ['02/01/2018', '04/12/2018', '06/18/2018']}\n",
    "gd_assign = pd.DataFrame(d)\n",
    "subjects = ['Math', 'ELA']"
   ]
  },
  {
   "cell_type": "code",
   "execution_count": 46,
   "metadata": {
    "collapsed": true
   },
   "outputs": [],
   "source": [
    "assign_df = get_report('00O1a000002rwMN')\n",
    "assign_df['key'] = assign_df['Assignment: Section: Section Name'] + assign_df['Reporting Period Name']\n",
    "\n",
    "#assign_df = assign_df[assign_df['Reporting Period Name']='Quarter 1']\n",
    "#assign_df.drop_duplicates('Assignment: Assignment ID', inplace=True)\n",
    "#assign_df = assign_df[assign_df.duplicated('key', keep='first')]\n",
    "\n",
    "assign_counts = assign_df.groupby(by=['key', 'Assignment: Assignment ID']).count()\n",
    "assign_counts[assign_counts['Entered Grade']==0]\n",
    "\n",
    "# BE VERY CAREFUL - COULD DELETE GRADES\n",
    "#for x in assign_df['Assignment: Assignment ID']:\n",
    "#    driver.get('https://na24.salesforce.com/' + str(x))\n",
    "#    click_delete(driver)"
   ]
  },
  {
   "cell_type": "code",
   "execution_count": 59,
   "metadata": {
    "collapsed": false
   },
   "outputs": [
    {
     "name": "stdout",
     "output_type": "stream",
     "text": [
      "Starting: Amos Alonzo Stagg Elementary School of Excellence\n",
      "Starting: Anna R. Langford Community Academy\n",
      "Starting: Brian Piccolo Elementary School of Excellence\n",
      "Starting: Carter G Woodson South Elementary School\n",
      "Starting: Chalmers School of Excellence\n",
      "Starting: Charles S Deneen School of Excellence\n",
      "Starting: Chicago Academy High School\n",
      "Starting: Collins Academy High School\n",
      "Starting: Dulles School of Excellence\n",
      "Starting: Dvorak School of Excellence\n",
      "Starting: Edmond Burke Elementary School\n",
      "Starting: Frederick Funston Elementary School\n",
      "Starting: Fuller School of Excellence\n",
      "Starting: Gage Park High School\n",
      "Starting: Gale Community Academy\n",
      "Starting: Herzl School of Excellence\n",
      "Starting: John J Pershing Elementary Humanities Magnet\n",
      "Starting: John Milton Gregory Elementary School\n",
      "Starting: Johnson School of Excellence\n",
      "Starting: Jordan Elementary Community School\n",
      "Starting: Joseph Lovett Elementary School\n",
      "Starting: McNair School of Excellence\n",
      "Starting: O'Keeffe School of Excellence\n",
      "Starting: Spencer Technology Academy\n",
      "Starting: Sullivan High School\n",
      "Starting: Wendell Phillips Academy\n"
     ]
    }
   ],
   "source": [
    "# Add Students to Gradebook Sections\n",
    "driver = get_driver()\n",
    "open_cyschoolhouse18(driver)\n",
    "\n",
    "wait = 10\n",
    "\n",
    "for school in sch_ref_df['School'].tolist():\n",
    "    print(\"Starting: {}\".format(school))\n",
    "    driver.get(\"https://c.na24.visual.force.com/apex/core_ChangeSchool\")\n",
    "    driver.find_element_by_xpath(\"//select[@name='j_id0:j_id30:j_id32']/option[text()=\\\"%s\\\"]\" % school).click()\n",
    "    sleep(3)\n",
    "    driver.find_element_by_xpath(\"//input[contains(@class, 'btn') and contains(@value, 'Change')]\").click()\n",
    "    sleep(3)\n",
    "    for i, r in gd_assign.ix[1:].iterrows():\n",
    "        for x in subjects:\n",
    "            driver.get('https://c.na24.visual.force.com/apex/gradebook_addassignments_v2')\n",
    "            WebDriverWait(driver, 10).until(EC.presence_of_element_located((By.XPATH, \"//li[contains(@id, 'addExistingTab')]\")))\n",
    "            driver.find_element_by_xpath(\"//li[contains(@id, 'addExistingTab')]\").click()\n",
    "            WebDriverWait(driver, 10).until(EC.presence_of_element_located((By.XPATH, \"//select[contains(@name, 'j_id0:mainForm:j_id75:j_id88')]\")))\n",
    "            driver.find_element_by_xpath(\"//select[@name='j_id0:mainForm:j_id75:j_id88']/option[text()='Reporting Period Course Grade']\").click()\n",
    "            # wait for box to appear/disapper\n",
    "            fancy_box_wait(waittime=10)\n",
    "            driver.find_element_by_xpath(\"//input[@name='j_id0:mainForm:j_id75:j_id84']\").send_keys(r['Qtr'])\n",
    "            driver.find_element_by_xpath(\"//input[contains(@class, 'btn drk_blue_btn') and contains(@value, 'Search Assignments')]\").click()\n",
    "            fancy_box_wait(waittime=10)\n",
    "            \n",
    "            if x=='Math':\n",
    "                # choose math, enter credentials\n",
    "                driver.find_element_by_xpath(\"//td[contains(text(), \\\"%s\\\")]\" % (r['Qtr'] + \" - \" + x)).click()\n",
    "                fancy_box_wait(waittime=10)\n",
    "                driver.find_element_by_xpath(\"//input[contains(@name, 'j_id0:mainForm:j_id75:j_id153')]\").clear()\n",
    "                driver.find_element_by_xpath(\"//input[contains(@name, 'j_id0:mainForm:j_id75:j_id153')]\").send_keys(r['Qtr'] + \" - \" + x + \" - Reporting Period Course Grade - Chicago\")\n",
    "                driver.find_element_by_xpath(\"//input[contains(@name, 'j_id0:mainForm:j_id75:j_id166')]\").send_keys(r['Q'] + ' Ma')\n",
    "                # choose blue\n",
    "                driver.find_element_by_xpath(\"//select[@name='j_id0:mainForm:j_id75:j_id211']/option[text()='green']\").click()\n",
    "            \n",
    "            elif x=='ELA':\n",
    "                # choose ELA, enter credentials\n",
    "                driver.find_element_by_xpath(\"//td[contains(text(), \\\"%s\\\")]\" % (r['Qtr'] + \" - \" + x)).click()\n",
    "                fancy_box_wait(waittime=10)\n",
    "                driver.find_element_by_xpath(\"//input[contains(@name, 'j_id0:mainForm:j_id75:j_id153')]\").clear()\n",
    "                driver.find_element_by_xpath(\"//input[contains(@name, 'j_id0:mainForm:j_id75:j_id153')]\").send_keys(r['Qtr'] + \" - \" + x + \" - Reporting Period Course Grade - Chicago\")\n",
    "                driver.find_element_by_xpath(\"//input[contains(@name, 'j_id0:mainForm:j_id75:j_id166')]\").send_keys(r['Q'] + 'ELA')\n",
    "                # choose blue\n",
    "                driver.find_element_by_xpath(\"//select[@name='j_id0:mainForm:j_id75:j_id211']/option[text()='blue']\").click()\n",
    "            \n",
    "            driver.find_element_by_xpath(\"//select[@name='j_id0:mainForm:j_id75:j_id232']/option[text()='A-F']\").click()\n",
    "            fancy_box_wait(waittime=10)\n",
    "            # select all\n",
    "            driver.find_element_by_xpath(\"//input[contains(@onclick, \\\"%s\\\")]\" % \"selectAll2(this,'addAssCb');\").click()\n",
    "\n",
    "            for elem in driver.find_elements_by_xpath(\"//select[contains(@class, 'rPeriod')]\"):\n",
    "                ID=elem.get_attribute('id')\n",
    "                driver.find_element_by_xpath(\"//select[@id='{}']/option[text()='{}']\".format(ID, r['Reporting Perdiod'])).click()\n",
    "    \n",
    "            for elem in driver.find_elements_by_xpath(\"//input[contains(@class, 'datepicker hasDatepicker')]\"):\n",
    "                elem.clear()\n",
    "                elem.send_keys(r['Due Date'])\n",
    "           \n",
    "            driver.find_element_by_xpath(\"//input[contains(@class, 'btn black_btn') and contains(@value, 'Submit')]\").click()\n",
    "            \n",
    "            fancy_box_wait(waittime=10)"
   ]
  }
 ],
 "metadata": {
  "kernelspec": {
   "display_name": "Python 3",
   "language": "python",
   "name": "python3"
  },
  "language_info": {
   "codemirror_mode": {
    "name": "ipython",
    "version": 3
   },
   "file_extension": ".py",
   "mimetype": "text/x-python",
   "name": "python",
   "nbconvert_exporter": "python",
   "pygments_lexer": "ipython3",
   "version": "3.6.0"
  }
 },
 "nbformat": 4,
 "nbformat_minor": 2
}
