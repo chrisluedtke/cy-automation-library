{
 "cells": [
  {
   "cell_type": "code",
   "execution_count": null,
   "metadata": {
    "collapsed": true
   },
   "outputs": [],
   "source": [
    "from pathlib import Path\n",
    "from seleniumrequests import Firefox\n",
    "\n",
    "import PageObjects.implementations as scripts\n",
    "import PageObjects.pages as page\n",
    "import PageObjects.locators as loc"
   ]
  },
  {
   "cell_type": "code",
   "execution_count": null,
   "metadata": {},
   "outputs": [
    {
     "name": "stdout",
     "output_type": "stream",
     "text": [
      "Caught a (<class 'selenium.common.exceptions.NoSuchElementException'>, NoSuchElementException(\"Unable to locate element: tr[id ^= 'a1U1a000002Ybhm'] td\", None, None), <traceback object at 0x000001B599AB1948>) error on student: a1U1a000002Ybhm\n",
      "Caught a (<class 'selenium.common.exceptions.NoSuchElementException'>, NoSuchElementException(\"Unable to locate element: tr[id ^= 'a1U1a000002YbfZ'] td\", None, None), <traceback object at 0x000001B599AADC08>) error on student: a1U1a000002YbfZ\n",
      "Caught a (<class 'selenium.common.exceptions.NoSuchElementException'>, NoSuchElementException(\"Unable to locate element: tr[id ^= 'a1U1a000002YbZ1'] td\", None, None), <traceback object at 0x000001B599A59F08>) error on student: a1U1a000002YbZ1\n",
      "Caught a (<class 'selenium.common.exceptions.NoSuchElementException'>, NoSuchElementException(\"Unable to locate element: tr[id ^= 'a1U1a000002Ycu1'] td\", None, None), <traceback object at 0x000001B599AB4F48>) error on student: a1U1a000002Ycu1\n",
      "Caught a (<class 'selenium.common.exceptions.NoSuchElementException'>, NoSuchElementException(\"Unable to locate element: tr[id ^= 'a1U1a000002Ycqk'] td\", None, None), <traceback object at 0x000001B599A59BC8>) error on student: a1U1a000002Ycqk\n",
      "Caught a (<class 'selenium.common.exceptions.NoSuchElementException'>, NoSuchElementException(\"Unable to locate element: tr[id ^= 'a1U1a000002Ycwt'] td\", None, None), <traceback object at 0x000001B599AADB48>) error on student: a1U1a000002Ycwt\n",
      "Caught a (<class 'selenium.common.exceptions.NoSuchElementException'>, NoSuchElementException(\"Unable to locate element: tr[id ^= 'a1U1a000002Ycz8'] td\", None, None), <traceback object at 0x000001B599B27B88>) error on student: a1U1a000002Ycz8\n",
      "Caught a (<class 'selenium.common.exceptions.NoSuchElementException'>, NoSuchElementException(\"Unable to locate element: tr[id ^= 'a1U1a000002YcqZ'] td\", None, None), <traceback object at 0x000001B599A84E88>) error on student: a1U1a000002YcqZ\n",
      "Caught a (<class 'selenium.common.exceptions.NoSuchElementException'>, NoSuchElementException(\"Unable to locate element: tr[id ^= 'a1U1a000002Ycxn'] td\", None, None), <traceback object at 0x000001B599A84948>) error on student: a1U1a000002Ycxn\n",
      "Caught a (<class 'selenium.common.exceptions.NoSuchElementException'>, NoSuchElementException(\"Unable to locate element: tr[id ^= 'a1U1a000002Ycxh'] td\", None, None), <traceback object at 0x000001B599A84C08>) error on student: a1U1a000002Ycxh\n",
      "Caught a (<class 'selenium.common.exceptions.NoSuchElementException'>, NoSuchElementException(\"Unable to locate element: tr[id ^= 'a1U1a000002Yd3N'] td\", None, None), <traceback object at 0x000001B599B0D288>) error on student: a1U1a000002Yd3N\n",
      "Caught a (<class 'selenium.common.exceptions.NoSuchElementException'>, NoSuchElementException(\"Unable to locate element: tr[id ^= 'a1U1a000002Ybyq'] td\", None, None), <traceback object at 0x000001B599B15CC8>) error on student: a1U1a000002Ybyq\n",
      "Caught a (<class 'selenium.common.exceptions.NoSuchElementException'>, NoSuchElementException(\"Unable to locate element: tr[id ^= 'a1U1a000002Ybju'] td\", None, None), <traceback object at 0x000001B599B2C848>) error on student: a1U1a000002Ybju\n",
      "Caught a (<class 'selenium.common.exceptions.NoSuchElementException'>, NoSuchElementException(\"Unable to locate element: tr[id ^= 'a1U1a000002YbyR'] td\", None, None), <traceback object at 0x000001B599B2C748>) error on student: a1U1a000002YbyR\n",
      "Caught a (<class 'selenium.common.exceptions.NoSuchElementException'>, NoSuchElementException(\"Unable to locate element: tr[id ^= 'a1U1a000002YbtW'] td\", None, None), <traceback object at 0x000001B599B303C8>) error on student: a1U1a000002YbtW\n",
      "Caught a (<class 'selenium.common.exceptions.NoSuchElementException'>, NoSuchElementException(\"Unable to locate element: tr[id ^= 'a1U1a000002Yblc'] td\", None, None), <traceback object at 0x000001B599A59C88>) error on student: a1U1a000002Yblc\n",
      "Caught a (<class 'selenium.common.exceptions.NoSuchElementException'>, NoSuchElementException(\"Unable to locate element: tr[id ^= 'a1U1a000002Ybmg'] td\", None, None), <traceback object at 0x000001B599B30988>) error on student: a1U1a000002Ybmg\n",
      "Caught a (<class 'selenium.common.exceptions.NoSuchElementException'>, NoSuchElementException(\"Unable to locate element: tr[id ^= 'a1U1a000002Ybth'] td\", None, None), <traceback object at 0x000001B599B30648>) error on student: a1U1a000002Ybth\n",
      "Caught a (<class 'selenium.common.exceptions.NoSuchElementException'>, NoSuchElementException(\"Unable to locate element: tr[id ^= 'a1U1a000002YbjH'] td\", None, None), <traceback object at 0x000001B599B39C88>) error on student: a1U1a000002YbjH\n",
      "Caught a (<class 'selenium.common.exceptions.NoSuchElementException'>, NoSuchElementException(\"Unable to locate element: tr[id ^= 'a1U1a000002YbjS'] td\", None, None), <traceback object at 0x000001B599B39DC8>) error on student: a1U1a000002YbjS\n",
      "Caught a (<class 'selenium.common.exceptions.NoSuchElementException'>, NoSuchElementException(\"Unable to locate element: tr[id ^= 'a1U1a000002Ybwj'] td\", None, None), <traceback object at 0x000001B599AE2588>) error on student: a1U1a000002Ybwj\n",
      "Caught a (<class 'selenium.common.exceptions.NoSuchElementException'>, NoSuchElementException(\"Unable to locate element: tr[id ^= 'a1U1a000002YbmZ'] td\", None, None), <traceback object at 0x000001B599B34D48>) error on student: a1U1a000002YbmZ\n",
      "Caught a (<class 'selenium.common.exceptions.NoSuchElementException'>, NoSuchElementException(\"Unable to locate element: tr[id ^= 'a1U1a000002Ybjw'] td\", None, None), <traceback object at 0x000001B599B34C08>) error on student: a1U1a000002Ybjw\n",
      "Caught a (<class 'selenium.common.exceptions.NoSuchElementException'>, NoSuchElementException(\"Unable to locate element: tr[id ^= 'a1U1a000002Yknh'] td\", None, None), <traceback object at 0x000001B599B34248>) error on student: a1U1a000002Yknh\n",
      "Caught a (<class 'selenium.common.exceptions.NoSuchElementException'>, NoSuchElementException(\"Unable to locate element: tr[id ^= 'a1U1a000002Ye0D'] td\", None, None), <traceback object at 0x000001B599AC3F48>) error on student: a1U1a000002Ye0D\n",
      "Timeout Failure on student: a1U1a000002YeQh\n",
      "Caught a (<class 'selenium.common.exceptions.NoSuchElementException'>, NoSuchElementException(\"Unable to locate element: tr[id ^= 'a1U1a000002YeUf'] td\", None, None), <traceback object at 0x000001B599AA6348>) error on student: a1U1a000002YeUf\n",
      "Caught a (<class 'selenium.common.exceptions.NoSuchElementException'>, NoSuchElementException(\"Unable to locate element: tr[id ^= 'a1U1a000002Ydvb'] td\", None, None), <traceback object at 0x000001B599AA63C8>) error on student: a1U1a000002Ydvb\n",
      "Caught a (<class 'selenium.common.exceptions.NoSuchElementException'>, NoSuchElementException(\"Unable to locate element: tr[id ^= 'a1U1a000002YeOg'] td\", None, None), <traceback object at 0x000001B599AA6308>) error on student: a1U1a000002YeOg\n",
      "Caught a (<class 'selenium.common.exceptions.NoSuchElementException'>, NoSuchElementException(\"Unable to locate element: tr[id ^= 'a1U1a000002YkHW'] td\", None, None), <traceback object at 0x000001B599AA60C8>) error on student: a1U1a000002YkHW\n",
      "Caught a (<class 'selenium.common.exceptions.NoSuchElementException'>, NoSuchElementException(\"Unable to locate element: tr[id ^= 'a1U1a000002YeUY'] td\", None, None), <traceback object at 0x000001B599AA6688>) error on student: a1U1a000002YeUY\n",
      "Caught a (<class 'selenium.common.exceptions.NoSuchElementException'>, NoSuchElementException(\"Unable to locate element: tr[id ^= 'a1U1a000002YkIU'] td\", None, None), <traceback object at 0x000001B599AA69C8>) error on student: a1U1a000002YkIU\n",
      "Caught a (<class 'selenium.common.exceptions.NoSuchElementException'>, NoSuchElementException(\"Unable to locate element: tr[id ^= 'a1U1a000002YebB'] td\", None, None), <traceback object at 0x000001B599AA65C8>) error on student: a1U1a000002YebB\n",
      "Caught a (<class 'selenium.common.exceptions.NoSuchElementException'>, NoSuchElementException(\"Unable to locate element: tr[id ^= 'a1U1a000002YeE3'] td\", None, None), <traceback object at 0x000001B599AA6208>) error on student: a1U1a000002YeE3\n",
      "Caught a (<class 'selenium.common.exceptions.NoSuchElementException'>, NoSuchElementException(\"Unable to locate element: tr[id ^= 'a1U1a000002YeTN'] td\", None, None), <traceback object at 0x000001B599AA6708>) error on student: a1U1a000002YeTN\n"
     ]
    },
    {
     "name": "stdout",
     "output_type": "stream",
     "text": [
      "Caught a (<class 'selenium.common.exceptions.NoSuchElementException'>, NoSuchElementException(\"Unable to locate element: tr[id ^= 'a1U1a000002YeD3'] td\", None, None), <traceback object at 0x000001B599AC3648>) error on student: a1U1a000002YeD3\n",
      "Caught a (<class 'selenium.common.exceptions.NoSuchElementException'>, NoSuchElementException(\"Unable to locate element: tr[id ^= 'a1U1a000002YeKZ'] td\", None, None), <traceback object at 0x000001B599AC5A48>) error on student: a1U1a000002YeKZ\n",
      "Caught a (<class 'selenium.common.exceptions.NoSuchElementException'>, NoSuchElementException(\"Unable to locate element: tr[id ^= 'a1U1a000002YkIw'] td\", None, None), <traceback object at 0x000001B599AC5A88>) error on student: a1U1a000002YkIw\n",
      "Caught a (<class 'selenium.common.exceptions.NoSuchElementException'>, NoSuchElementException(\"Unable to locate element: tr[id ^= 'a1U1a000002YeUy'] td\", None, None), <traceback object at 0x000001B599AC5088>) error on student: a1U1a000002YeUy\n",
      "Caught a (<class 'selenium.common.exceptions.NoSuchElementException'>, NoSuchElementException(\"Unable to locate element: tr[id ^= 'a1U1a000002YeOM'] td\", None, None), <traceback object at 0x000001B599AC5F88>) error on student: a1U1a000002YeOM\n",
      "Caught a (<class 'selenium.common.exceptions.NoSuchElementException'>, NoSuchElementException(\"Unable to locate element: tr[id ^= 'a1U1a000002YeEo'] td\", None, None), <traceback object at 0x000001B599AC5908>) error on student: a1U1a000002YeEo\n",
      "Caught a (<class 'selenium.common.exceptions.NoSuchElementException'>, NoSuchElementException(\"Unable to locate element: tr[id ^= 'a1U1a000002YeRC'] td\", None, None), <traceback object at 0x000001B599AA6888>) error on student: a1U1a000002YeRC\n",
      "Caught a (<class 'selenium.common.exceptions.NoSuchElementException'>, NoSuchElementException(\"Unable to locate element: tr[id ^= 'a1U1a000002YkIq'] td\", None, None), <traceback object at 0x000001B599AA60C8>) error on student: a1U1a000002YkIq\n",
      "Caught a (<class 'selenium.common.exceptions.NoSuchElementException'>, NoSuchElementException(\"Unable to locate element: tr[id ^= 'a1U1a000002YeFR'] td\", None, None), <traceback object at 0x000001B599AA6548>) error on student: a1U1a000002YeFR\n",
      "Caught a (<class 'selenium.common.exceptions.NoSuchElementException'>, NoSuchElementException(\"Unable to locate element: tr[id ^= 'a1U1a000002YeJR'] td\", None, None), <traceback object at 0x000001B599AA6888>) error on student: a1U1a000002YeJR\n",
      "Caught a (<class 'selenium.common.exceptions.NoSuchElementException'>, NoSuchElementException(\"Unable to locate element: tr[id ^= 'a1U1a000002YeLt'] td\", None, None), <traceback object at 0x000001B599AA6448>) error on student: a1U1a000002YeLt\n",
      "Caught a (<class 'selenium.common.exceptions.NoSuchElementException'>, NoSuchElementException(\"Unable to locate element: tr[id ^= 'a1U1a000002YeLI'] td\", None, None), <traceback object at 0x000001B599AA6588>) error on student: a1U1a000002YeLI\n",
      "Caught a (<class 'selenium.common.exceptions.NoSuchElementException'>, NoSuchElementException(\"Unable to locate element: tr[id ^= 'a1U1a000002YeMv'] td\", None, None), <traceback object at 0x000001B599AA6248>) error on student: a1U1a000002YeMv\n",
      "Caught a (<class 'selenium.common.exceptions.NoSuchElementException'>, NoSuchElementException(\"Unable to locate element: tr[id ^= 'a1U1a000002YeLO'] td\", None, None), <traceback object at 0x000001B599AA6488>) error on student: a1U1a000002YeLO\n",
      "Caught a (<class 'selenium.common.exceptions.NoSuchElementException'>, NoSuchElementException(\"Unable to locate element: tr[id ^= 'a1U1a000002Yeap'] td\", None, None), <traceback object at 0x000001B599AA6A48>) error on student: a1U1a000002Yeap\n",
      "Caught a (<class 'selenium.common.exceptions.NoSuchElementException'>, NoSuchElementException(\"Unable to locate element: tr[id ^= 'a1U1a000002YeVv'] td\", None, None), <traceback object at 0x000001B599AA6948>) error on student: a1U1a000002YeVv\n",
      "Caught a (<class 'selenium.common.exceptions.NoSuchElementException'>, NoSuchElementException(\"Unable to locate element: tr[id ^= 'a1U1a000002YebI'] td\", None, None), <traceback object at 0x000001B599AA5648>) error on student: a1U1a000002YebI\n",
      "Caught a (<class 'selenium.common.exceptions.NoSuchElementException'>, NoSuchElementException(\"Unable to locate element: tr[id ^= 'a1U1a000002YeOo'] td\", None, None), <traceback object at 0x000001B599AA55C8>) error on student: a1U1a000002YeOo\n",
      "Caught a (<class 'selenium.common.exceptions.NoSuchElementException'>, NoSuchElementException(\"Unable to locate element: tr[id ^= 'a1U1a000002YeWg'] td\", None, None), <traceback object at 0x000001B599AA5148>) error on student: a1U1a000002YeWg\n",
      "Caught a (<class 'selenium.common.exceptions.NoSuchElementException'>, NoSuchElementException(\"Unable to locate element: tr[id ^= 'a1U1a000002YkIc'] td\", None, None), <traceback object at 0x000001B599AA56C8>) error on student: a1U1a000002YkIc\n",
      "Caught a (<class 'selenium.common.exceptions.NoSuchElementException'>, NoSuchElementException(\"Unable to locate element: tr[id ^= 'a1U1a000002YeVF'] td\", None, None), <traceback object at 0x000001B599AA68C8>) error on student: a1U1a000002YeVF\n",
      "Caught a (<class 'selenium.common.exceptions.NoSuchElementException'>, NoSuchElementException(\"Unable to locate element: tr[id ^= 'a1U1a000002YeRZ'] td\", None, None), <traceback object at 0x000001B599AA5888>) error on student: a1U1a000002YeRZ\n",
      "Caught a (<class 'selenium.common.exceptions.NoSuchElementException'>, NoSuchElementException(\"Unable to locate element: tr[id ^= 'a1U1a000002Ydij'] td\", None, None), <traceback object at 0x000001B599AA5E88>) error on student: a1U1a000002Ydij\n",
      "Caught a (<class 'selenium.common.exceptions.NoSuchElementException'>, NoSuchElementException(\"Unable to locate element: tr[id ^= 'a1U1a000002YeEP'] td\", None, None), <traceback object at 0x000001B599AA57C8>) error on student: a1U1a000002YeEP\n",
      "Caught a (<class 'selenium.common.exceptions.NoSuchElementException'>, NoSuchElementException(\"Unable to locate element: tr[id ^= 'a1U1a000002YeY1'] td\", None, None), <traceback object at 0x000001B599AA5648>) error on student: a1U1a000002YeY1\n",
      "Caught a (<class 'selenium.common.exceptions.NoSuchElementException'>, NoSuchElementException(\"Unable to locate element: tr[id ^= 'a1U1a000002YeLD'] td\", None, None), <traceback object at 0x000001B599AA55C8>) error on student: a1U1a000002YeLD\n",
      "Caught a (<class 'selenium.common.exceptions.NoSuchElementException'>, NoSuchElementException(\"Unable to locate element: tr[id ^= 'a1U1a000002YeG6'] td\", None, None), <traceback object at 0x000001B599ADE688>) error on student: a1U1a000002YeG6\n",
      "Caught a (<class 'selenium.common.exceptions.NoSuchElementException'>, NoSuchElementException(\"Unable to locate element: tr[id ^= 'a1U1a000002Yeaw'] td\", None, None), <traceback object at 0x000001B599ADE048>) error on student: a1U1a000002Yeaw\n",
      "Caught a (<class 'selenium.common.exceptions.NoSuchElementException'>, NoSuchElementException(\"Unable to locate element: tr[id ^= 'a1U1a000002YeXR'] td\", None, None), <traceback object at 0x000001B599ADE108>) error on student: a1U1a000002YeXR\n",
      "Caught a (<class 'selenium.common.exceptions.NoSuchElementException'>, NoSuchElementException(\"Unable to locate element: tr[id ^= 'a1U1a000002YeIy'] td\", None, None), <traceback object at 0x000001B599ADE088>) error on student: a1U1a000002YeIy\n",
      "Caught a (<class 'selenium.common.exceptions.NoSuchElementException'>, NoSuchElementException(\"Unable to locate element: tr[id ^= 'a1U1a000002YeXu'] td\", None, None), <traceback object at 0x000001B599ADE588>) error on student: a1U1a000002YeXu\n",
      "Caught a (<class 'selenium.common.exceptions.NoSuchElementException'>, NoSuchElementException(\"Unable to locate element: tr[id ^= 'a1U1a000002YeK2'] td\", None, None), <traceback object at 0x000001B599ADED88>) error on student: a1U1a000002YeK2\n",
      "Caught a (<class 'selenium.common.exceptions.NoSuchElementException'>, NoSuchElementException(\"Unable to locate element: tr[id ^= 'a1U1a000002YdvV'] td\", None, None), <traceback object at 0x000001B599ADEE48>) error on student: a1U1a000002YdvV\n",
      "Caught a (<class 'selenium.common.exceptions.NoSuchElementException'>, NoSuchElementException(\"Unable to locate element: tr[id ^= 'a1U1a000002YeZS'] td\", None, None), <traceback object at 0x000001B599ADEF08>) error on student: a1U1a000002YeZS\n"
     ]
    },
    {
     "name": "stdout",
     "output_type": "stream",
     "text": [
      "Caught a (<class 'selenium.common.exceptions.NoSuchElementException'>, NoSuchElementException(\"Unable to locate element: tr[id ^= 'a1U1a000002YeDq'] td\", None, None), <traceback object at 0x000001B599ADE688>) error on student: a1U1a000002YeDq\n",
      "Caught a (<class 'selenium.common.exceptions.NoSuchElementException'>, NoSuchElementException(\"Unable to locate element: tr[id ^= 'a1U1a000002YeIG'] td\", None, None), <traceback object at 0x000001B599ADEC88>) error on student: a1U1a000002YeIG\n",
      "Caught a (<class 'selenium.common.exceptions.NoSuchElementException'>, NoSuchElementException(\"Unable to locate element: tr[id ^= 'a1U1a000002YeaX'] td\", None, None), <traceback object at 0x000001B599AC8088>) error on student: a1U1a000002YeaX\n",
      "Caught a (<class 'selenium.common.exceptions.NoSuchElementException'>, NoSuchElementException(\"Unable to locate element: tr[id ^= 'a1U1a000002YeU7'] td\", None, None), <traceback object at 0x000001B599AC81C8>) error on student: a1U1a000002YeU7\n",
      "Caught a (<class 'selenium.common.exceptions.NoSuchElementException'>, NoSuchElementException(\"Unable to locate element: tr[id ^= 'a1U1a000002YeK4'] td\", None, None), <traceback object at 0x000001B599AC8588>) error on student: a1U1a000002YeK4\n",
      "Caught a (<class 'selenium.common.exceptions.NoSuchElementException'>, NoSuchElementException(\"Unable to locate element: tr[id ^= 'a1U1a000002YeMA'] td\", None, None), <traceback object at 0x000001B599AC8748>) error on student: a1U1a000002YeMA\n",
      "Timeout Failure on student: a1U1a000002YcTE\n",
      "Caught a (<class 'selenium.common.exceptions.NoSuchElementException'>, NoSuchElementException(\"Unable to locate element: tr[id ^= 'a1U1a000002YcTp'] td\", None, None), <traceback object at 0x000001B599AC8808>) error on student: a1U1a000002YcTp\n",
      "Caught a (<class 'selenium.common.exceptions.NoSuchElementException'>, NoSuchElementException(\"Unable to locate element: tr[id ^= 'a1U1a000002Yca0'] td\", None, None), <traceback object at 0x000001B599AC8E88>) error on student: a1U1a000002Yca0\n",
      "Caught a (<class 'selenium.common.exceptions.NoSuchElementException'>, NoSuchElementException(\"Unable to locate element: tr[id ^= 'a1U1a000002YcbL'] td\", None, None), <traceback object at 0x000001B599AC8F48>) error on student: a1U1a000002YcbL\n",
      "Timeout Failure on student: a1U1a000002YcVU\n",
      "Caught a (<class 'selenium.common.exceptions.NoSuchElementException'>, NoSuchElementException(\"Unable to locate element: tr[id ^= 'a1U1a000002YcE3'] td\", None, None), <traceback object at 0x000001B599AC8F88>) error on student: a1U1a000002YcE3\n",
      "Caught a (<class 'selenium.common.exceptions.NoSuchElementException'>, NoSuchElementException(\"Unable to locate element: tr[id ^= 'a1U1a000002Yamo'] td\", None, None), <traceback object at 0x000001B599B407C8>) error on student: a1U1a000002Yamo\n",
      "Caught a (<class 'selenium.common.exceptions.NoSuchElementException'>, NoSuchElementException(\"Unable to locate element: tr[id ^= 'a1U1a000002Yajx'] td\", None, None), <traceback object at 0x000001B599B407C8>) error on student: a1U1a000002Yajx\n",
      "Timeout Failure on student: a1U1a000002Yaw4\n",
      "Timeout Failure on student: a1U1a000002Yasx\n",
      "Caught a (<class 'selenium.common.exceptions.NoSuchElementException'>, NoSuchElementException(\"Unable to locate element: tr[id ^= 'a1U1a000002YkdK'] td\", None, None), <traceback object at 0x000001B599B40F08>) error on student: a1U1a000002YkdK\n",
      "Timeout Failure on student: a1U1a000002YbGN\n"
     ]
    }
   ],
   "source": [
    "scrpt = scripts.IndicatorAreaEnrollment()\n",
    "scrpt.enroll_all_students()"
   ]
  },
  {
   "cell_type": "code",
   "execution_count": 3,
   "metadata": {},
   "outputs": [],
   "source": [
    "driver = Firefox()"
   ]
  },
  {
   "cell_type": "code",
   "execution_count": 4,
   "metadata": {
    "collapsed": true
   },
   "outputs": [],
   "source": [
    "scrpt = scripts.IndicatorAreaEnrollment(driver)"
   ]
  },
  {
   "cell_type": "code",
   "execution_count": 8,
   "metadata": {},
   "outputs": [],
   "source": [
    "scrpt.driver.switch_to_window(scrpt.driver.window_handles[1])"
   ]
  },
  {
   "cell_type": "code",
   "execution_count": 81,
   "metadata": {},
   "outputs": [],
   "source": [
    "student_id = 'a1U1a000002Ya7V'\n",
    "ia_form = page.CyshIndicatorAreas(scrpt.driver)\n",
    "ia_form.name_search = 'CASTILLO-NATERAS'\n",
    "#ia_form.wait_for_page_to_load()\n",
    "student = select_student(scrpt, student_id)"
   ]
  },
  {
   "cell_type": "code",
   "execution_count": 66,
   "metadata": {
    "collapsed": true
   },
   "outputs": [],
   "source": [
    "def select_student(self, student_id):\n",
    "    \"\"\"Selects a visible student using their Salesforce Id\"\"\"\n",
    "    #WebDriverWait(self.driver, 10).until(EC.presence_of_all_elements_located((By.XPATH, \"//table[@id='StudentsTable']\")))\n",
    "    table = self.driver.find_element_by_xpath(\"//table[@id='StudentsTable']/tbody\")\n",
    "    student = table.find_element_by_xpath(\"//tr[starts-with(@id, '\" + student_id + \"')]\")\n",
    "    student.click()\n",
    "    #self.driver.find_element(*loc.IndicatorAreaLocators.ADD_BUTTON).click()\n",
    "    return student"
   ]
  },
  {
   "cell_type": "code",
   "execution_count": 79,
   "metadata": {
    "collapsed": true
   },
   "outputs": [],
   "source": [
    "def select_student(self, student_id):\n",
    "    table = self.driver.find_element_by_css_selector(\"Table[id*='StudentsTable'] tbody\")\n",
    "    student = table.find_element_by_css_selector(\"tr[id ^= '\" + student_id + \"'] td\")\n",
    "    student.click()\n",
    "    #self.driver.find_element(*loc.IndicatorAreaLocators.ADD_BUTTON).click()\n",
    "    return student "
   ]
  },
  {
   "cell_type": "code",
   "execution_count": 71,
   "metadata": {},
   "outputs": [],
   "source": [
    "student.find_element_by_css_selector('.sorting_1').click()"
   ]
  },
  {
   "cell_type": "code",
   "execution_count": 78,
   "metadata": {
    "collapsed": true
   },
   "outputs": [],
   "source": [
    "student.click()"
   ]
  },
  {
   "cell_type": "code",
   "execution_count": null,
   "metadata": {
    "collapsed": true
   },
   "outputs": [],
   "source": []
  }
 ],
 "metadata": {
  "kernelspec": {
   "display_name": "Python 3",
   "language": "python",
   "name": "python3"
  },
  "language_info": {
   "codemirror_mode": {
    "name": "ipython",
    "version": 3
   },
   "file_extension": ".py",
   "mimetype": "text/x-python",
   "name": "python",
   "nbconvert_exporter": "python",
   "pygments_lexer": "ipython3",
   "version": "3.6.4"
  }
 },
 "nbformat": 4,
 "nbformat_minor": 2
}
