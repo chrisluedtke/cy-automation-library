{
 "cells": [
  {
   "cell_type": "code",
   "execution_count": 1,
   "metadata": {},
   "outputs": [],
   "source": [
    "# KNOWN ISSUES:\n",
    "# If ACM has document open, script will stall\n",
    "# Documents from SharePoint open read-only: https://excel.uservoice.com/forums/304921-excel-for-windows-desktop-application/suggestions/10205019-read-only-mode?page=1&per_page=20\n",
    "#     - fixed by using \"wb.save(file_path)\" instead of \"wb.save()\""
   ]
  },
  {
   "cell_type": "code",
   "execution_count": 2,
   "metadata": {},
   "outputs": [],
   "source": [
    "from cyschoolhousesuite import *\n",
    "import xlwings as xw # Excel must be closed prior to running script\n",
    "\n",
    "CP_df = get_report(\"00O1a000002rm2S\")\n",
    "CP_df = CP_df.loc[CP_df['Program: Program Name'].str.contains(\"Attendance\")].copy()\n",
    "CP_df.sort_values(by=['Account Name', 'Student: Student Name'], inplace=True)\n",
    "CP_df = CP_df[[\n",
    "    'Account Name',\n",
    "    'Student: Student Name',\n",
    "    'Student Id',\n",
    "    'Student: Grade',\n",
    "    'Intervention Primary Staff: Staff Name'\n",
    "]]"
   ]
  },
  {
   "cell_type": "code",
   "execution_count": 3,
   "metadata": {},
   "outputs": [],
   "source": [
    "sch_ref_path = r'Z:\\ChiPrivate\\Chicago Data and Evaluation\\SY18\\SY18 Team Placement\\SY18 FINAL Team Placements.xlsx'\n",
    "sch_ref_df = pd.read_excel(sch_ref_path, sheet_name=\"School Data\")\n",
    "sch_ref_df = sch_ref_df.loc[~sch_ref_df['School'].isnull()]"
   ]
  },
  {
   "cell_type": "code",
   "execution_count": 4,
   "metadata": {},
   "outputs": [],
   "source": [
    "# Update existing files\n",
    "for index, row in sch_ref_df.iterrows():\n",
    "    try:\n",
    "        file_path = (\"Z:\\\\\" + row['cyconnect Folder'] + \"\\\\\" + \"SY18 Attendance Tracker - \"\n",
    "                     + row['Informal School Name'] + \".xlsx\")\n",
    "        wb = xw.Book(file_path)\n",
    "#         wb.app.display_alerts = False\n",
    "        sht = wb.sheets[\"Enter Focus List Here\"]\n",
    "        df = CP_df.loc[CP_df['Account Name']==row['School']].copy()\n",
    "        df.drop_duplicates(subset='Student Id', inplace=True)\n",
    "        sht.range('A3:E300').value = \".\"\n",
    "        sht.range('A3').options(index=False, header=False).value = df.copy()\n",
    "        wb.save(file_path)\n",
    "    except Exception as e:\n",
    "        print(f\"Failed: {row['School']}: {e}\")\n",
    "        continue\n",
    "    wb.close()"
   ]
  },
  {
   "cell_type": "code",
   "execution_count": null,
   "metadata": {},
   "outputs": [],
   "source": [
    "## for future reference this might be a better way to close windows instead of wb.close()\n",
    "# app = xw.apps.active\n",
    "# app.quit()"
   ]
  }
 ],
 "metadata": {
  "kernelspec": {
   "display_name": "Python 3",
   "language": "python",
   "name": "python3"
  },
  "language_info": {
   "codemirror_mode": {
    "name": "ipython",
    "version": 3
   },
   "file_extension": ".py",
   "mimetype": "text/x-python",
   "name": "python",
   "nbconvert_exporter": "python",
   "pygments_lexer": "ipython3",
   "version": "3.6.4"
  }
 },
 "nbformat": 4,
 "nbformat_minor": 2
}
