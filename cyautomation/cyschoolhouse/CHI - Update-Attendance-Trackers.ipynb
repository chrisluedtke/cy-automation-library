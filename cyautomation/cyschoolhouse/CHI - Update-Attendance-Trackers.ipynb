{
 "cells": [
  {
   "cell_type": "code",
   "execution_count": 2,
   "metadata": {},
   "outputs": [
    {
     "name": "stderr",
     "output_type": "stream",
     "text": [
      "C:\\ProgramData\\Anaconda3\\lib\\site-packages\\pandas\\util\\_decorators.py:118: FutureWarning: The `sheetname` keyword is deprecated, use `sheet_name` instead\n",
      "  return func(*args, **kwargs)\n",
      "C:\\ProgramData\\Anaconda3\\lib\\site-packages\\ipykernel\\__main__.py:31: SettingWithCopyWarning: \n",
      "A value is trying to be set on a copy of a slice from a DataFrame\n",
      "\n",
      "See the caveats in the documentation: http://pandas.pydata.org/pandas-docs/stable/indexing.html#indexing-view-versus-copy\n"
     ]
    }
   ],
   "source": [
    "# KNOWN ISSUES: If ACM has document open, script will stall\n",
    "from cyschoolhousesuite import *\n",
    "import xlwings as xw\n",
    "\n",
    "sch_ref_path = \"Z:\\\\ChiPrivate\\\\Chicago Data and Evaluation\\\\SY18\\\\SY18 Team Placement\\\\SY18 FINAL Team Placements.xlsx\"\n",
    "sch_ref_df = pd.read_excel(sch_ref_path, sheetname=\"School Data\")\n",
    "sch_ref_df = sch_ref_df.loc[~sch_ref_df['School'].isnull()]\n",
    "\n",
    "CP_df = get_report(\"00O1a000002rm2S\")\n",
    "CP_df = CP_df.loc[CP_df['Program: Program Name'].str.contains(\"Attendance\")]\n",
    "CP_df.sort_values(by=['Account Name', 'Student: Student Name'], inplace=True)\n",
    "\n",
    "cols = ['Account Name',\n",
    "        'Student: Student Name',\n",
    "        'Student Id',\n",
    "        'Student: Grade',\n",
    "        'Intervention Primary Staff: Staff Name']\n",
    "CP_df = CP_df[cols]\n",
    "\n",
    "# Update existing files\n",
    "for x in sch_ref_df['cyconnect Folder'].unique():\n",
    "    try:\n",
    "        file_path = (\"Z:\\\\\" + x + \"\\\\\" + \"SY18 Attendance Tracker - \"\n",
    "                     + sch_ref_df['Informal School Name'].loc[sch_ref_df['cyconnect Folder'] == x].values[0] + \".xlsx\")\n",
    "        wb = xw.Book(file_path)\n",
    "        sht = wb.sheets[\"Enter Focus List Here\"]\n",
    "        df = CP_df.loc[CP_df['Account Name']==sch_ref_df['School'].loc[sch_ref_df['cyconnect Folder'] == x].values[0]]\n",
    "        df.drop_duplicates(subset='Student Id', inplace=True)\n",
    "        sht.range('A3:E300').value = \".\"\n",
    "        sht.range('A3').options(index=False, header=False).value = df\n",
    "        wb.save()\n",
    "    except Exception as e:\n",
    "        print(f\"Failed: {x}: {e}\")\n",
    "        continue\n",
    "    wb.close()"
   ]
  }
 ],
 "metadata": {
  "kernelspec": {
   "display_name": "Python 3",
   "language": "python",
   "name": "python3"
  },
  "language_info": {
   "codemirror_mode": {
    "name": "ipython",
    "version": 3
   },
   "file_extension": ".py",
   "mimetype": "text/x-python",
   "name": "python",
   "nbconvert_exporter": "python",
   "pygments_lexer": "ipython3",
   "version": "3.6.4"
  }
 },
 "nbformat": 4,
 "nbformat_minor": 2
}
