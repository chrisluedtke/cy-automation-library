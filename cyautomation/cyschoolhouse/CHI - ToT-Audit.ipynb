{
 "cells": [
  {
   "cell_type": "code",
   "execution_count": 27,
   "metadata": {
    "collapsed": false
   },
   "outputs": [],
   "source": [
    "from cyschoolhousesuite import *\n",
    "from delete_ToT_entries import *\n",
    "import xlwings as xw\n",
    "df = get_report(report_key = \"00O1a000002rhjq\")"
   ]
  },
  {
   "cell_type": "code",
   "execution_count": 29,
   "metadata": {
    "collapsed": false
   },
   "outputs": [],
   "source": [
    "df['Intervention Session Date'] = pd.to_datetime(df['Intervention Session Date'])"
   ]
  },
  {
   "cell_type": "code",
   "execution_count": 30,
   "metadata": {
    "collapsed": false
   },
   "outputs": [],
   "source": [
    "df = df[df['Intervention Session Date']<'02/02/2018']"
   ]
  },
  {
   "cell_type": "code",
   "execution_count": 33,
   "metadata": {
    "collapsed": false
   },
   "outputs": [],
   "source": [
    "df = df.groupby(['Student Reference ID', 'Program: Program Name'])[['Amount of Time (in minutes)']].sum()"
   ]
  },
  {
   "cell_type": "code",
   "execution_count": 36,
   "metadata": {
    "collapsed": false
   },
   "outputs": [],
   "source": [
    "df = df.reset_index()"
   ]
  },
  {
   "cell_type": "code",
   "execution_count": 37,
   "metadata": {
    "collapsed": true
   },
   "outputs": [],
   "source": [
    "df.to_excel(\"C:\\\\Users\\\\CLuedtke\\\\Q2 ToT Freeze.xlsx\")"
   ]
  },
  {
   "cell_type": "code",
   "execution_count": 1,
   "metadata": {
    "collapsed": false,
    "scrolled": true
   },
   "outputs": [
    {
     "name": "stderr",
     "output_type": "stream",
     "text": [
      "C:\\ProgramData\\Anaconda3\\lib\\site-packages\\ipykernel\\__main__.py:37: SettingWithCopyWarning: \n",
      "A value is trying to be set on a copy of a slice from a DataFrame.\n",
      "Try using .loc[row_indexer,col_indexer] = value instead\n",
      "\n",
      "See the caveats in the documentation: http://pandas.pydata.org/pandas-docs/stable/indexing.html#indexing-view-versus-copy\n",
      "C:\\ProgramData\\Anaconda3\\lib\\site-packages\\ipykernel\\__main__.py:44: SettingWithCopyWarning: \n",
      "A value is trying to be set on a copy of a slice from a DataFrame.\n",
      "Try using .loc[row_indexer,col_indexer] = value instead\n",
      "\n",
      "See the caveats in the documentation: http://pandas.pydata.org/pandas-docs/stable/indexing.html#indexing-view-versus-copy\n",
      "C:\\ProgramData\\Anaconda3\\lib\\site-packages\\xlwings\\_xlwindows.py:992: FutureWarning: pandas.tslib is deprecated and will be removed in a future version.\n",
      "You can access NaTType as type(pandas.NaT)\n",
      "  if pd and isinstance(dt_time, pd.tslib.NaTType):\n",
      "C:\\ProgramData\\Anaconda3\\lib\\site-packages\\xlwings\\_xlwindows.py:1024: FutureWarning: to_datetime is deprecated. Use self.to_pydatetime()\n",
      "  return _datetime_to_com_time(x)\n"
     ]
    }
   ],
   "source": [
    "logf = open(\"C:\\\\Users\\\\CLuedtke\\\\Desktop\\\\Overnight_Scripts\\\\SY18_ToT_Audit.log\", \"w\")\n",
    "logf.write(\"{0} --- starting script {1}\\n\".format(str(pd.to_datetime('now')), \"'SY18 ToT Audit'\"))\n",
    "\n",
    "sch_ref = \"Z:\\\\ChiPrivate\\\\Chicago Data and Evaluation\\\\SY18\\\\SY18 Team Placement\\\\SY18 FINAL Team Placements.xlsx\"\n",
    "sch_ref_df = pd.read_excel(sch_ref, sheetname=\"School Data\")\n",
    "sch_ref_df = sch_ref_df.loc[pd.notnull(sch_ref_df['School'])]\n",
    "\n",
    "ToT_audit_dir = \"Z:\\\\ChiPrivate\\\\Chicago Reports and Evaluation\\\\SY18\\\\SY18 ToT Audit\\\\\"\n",
    "ToT_audit_tmplt = \"Z:\\\\ChiPrivate\\\\Chicago Reports and Evaluation\\\\SY18\\\\Eval Management\\\\SY18 ToT Audit Template.xlsx\"\n",
    "\n",
    "# Read in all ToT Audits to one dataframe\n",
    "all_tot_audits = []\n",
    "\n",
    "for x in sch_ref_df[\"cyconnect Folder\"]:\n",
    "    tot_audit_path = \"Z:\\\\\" + x + \"\\\\SY18 ToT Audit - \" + sch_ref_df['Informal School Name'][sch_ref_df['cyconnect Folder'] == x].values[0] + \".xlsx\"\n",
    "    try:\n",
    "        sch_tot_audit = pd.read_excel(tot_audit_path)\n",
    "        sch_tot_audit = sch_tot_audit.loc[pd.notnull(sch_tot_audit['School'])]\n",
    "        all_tot_audits.append(sch_tot_audit)\n",
    "    except:\n",
    "        continue\n",
    "\n",
    "try:\n",
    "    all_tot_audits = pd.concat(all_tot_audits, axis = 0)\n",
    "    all_tot_audits[\"Action\"] = all_tot_audits[\"Action\"].astype(str)\n",
    "except:\n",
    "    all_tot_audits = pd.DataFrame(columns=[\"Time ID\", \"Action\"])\n",
    "    pass\n",
    "\n",
    "# Select ToT instances to delete and write to safe space\n",
    "prev_tot2del = pd.read_excel(ToT_audit_dir + \"ToT instances to delete.xlsx\")\n",
    "tot2del = all_tot_audits.loc[all_tot_audits[\"Action\"] == \"Nothing, this session will be deleted.\"]\n",
    "tot2del[\"z_Date_Added\"] = pd.to_datetime('now')\n",
    "tot2del = prev_tot2del.append(tot2del)\n",
    "tot2del.to_excel(ToT_audit_dir + \"ToT instances to delete.xlsx\", index=False, freeze_panes=(1,0))\n",
    "\n",
    "# Select ToT instances to keep and write to safe space\n",
    "prev_tot2keep = pd.read_excel(ToT_audit_dir + \"ToT instances to keep.xlsx\")\n",
    "tot2keep = all_tot_audits.loc[all_tot_audits[\"Action\"] == \"Coach the ACM to have shorter sessions and to log each session separately.\"]\n",
    "tot2keep[\"z_Date_Added\"] = pd.to_datetime('now')\n",
    "tot2keep = prev_tot2keep.append(tot2keep)\n",
    "tot2keep.to_excel(ToT_audit_dir + \"ToT instances to keep.xlsx\", index=False, freeze_panes=(1,0))\n",
    "\n",
    "df = get_report(report_key = \"00O1a000002RyU6\")\n",
    "\n",
    "cols = ['School: Account Name',\n",
    "        'Intervention Session Date',        \n",
    "        'Intervention Primary Staff: Staff Name',\n",
    "        \"Related Student's Name\",\n",
    "        'Program: Program Name',\n",
    "        'In School/ Extended Learning',\n",
    "        'Amount of Time (in minutes)',\n",
    "        'Time ID',\n",
    "        'Inter. Session ID']\n",
    "\n",
    "df = df[cols]\n",
    "\n",
    "df.loc[df['Program: Program Name'] == \"Tutoring: Math\", 'Program: Program Name'] = \"Math\"\n",
    "df.loc[df['Program: Program Name'] == \"Tutoring: Literacy\", 'Program: Program Name'] = \"ELA\"\n",
    "df.loc[df['Program: Program Name'] == \"SEL Check In Check Out\", 'Program: Program Name'] = \"SEL\"\n",
    "\n",
    "df['Intervention Session Date'] = pd.to_datetime(df['Intervention Session Date'])\n",
    "\n",
    "# Remove ToT instances in tot2keep and tot2del from new report\n",
    "df = df[~df[\"Time ID\"].isin(tot2del[\"Time ID\"]) & ~df[\"Time ID\"].isin(tot2keep[\"Time ID\"])]\n",
    "\n",
    "# Add in processing information for items that carry over week to week (like if a session was known to be a typo, but the mistake wasn't fixed yet)\n",
    "df = df.merge(right=all_tot_audits[[\"Time ID\", 'Result of ACM Check-in   [EDIT]']], how='left', on=\"Time ID\")\n",
    "\n",
    "df.sort_values(by=['School: Account Name', \n",
    "                   \"Intervention Primary Staff: Staff Name\", \n",
    "                   \"Intervention Session Date\"], ascending=True, inplace=True)\n",
    "\n",
    "counts = df.groupby(['School: Account Name']).size()\n",
    "counts.to_excel(ToT_audit_dir + \"ToT Error Counts by School.xlsx\", header=False)\n",
    "\n",
    "# Open Excel template to fill in data and re-distribute\n",
    "wb = xw.Book(ToT_audit_tmplt)\n",
    "sht = wb.sheets['ToT Audit']\n",
    " \n",
    "for x in sch_ref_df[\"School\"]:\n",
    "    try:\n",
    "        sht.range('A2:J500').clear_contents()\n",
    "\n",
    "        # Write ToT Audit data\n",
    "        sht.range('A2').options(index=False, header=False).value = df[df['School: Account Name'] == x]\n",
    "\n",
    "        wb.save(\"Z:\\\\\" \n",
    "                + sch_ref_df['cyconnect Folder'][sch_ref_df['School'] == x].values[0]\n",
    "                + \"\\\\SY18 ToT Audit - \"\n",
    "                + sch_ref_df['Informal School Name'][sch_ref_df['School'] == x].values[0]\n",
    "                + \".xlsx\")\n",
    "        logf.write(\"{0} - success\\n\".format(str(x)))\n",
    "        \n",
    "    except:\n",
    "        logf.write(\"{0} - FAIL\\n\".format(str(x)))\n",
    "        continue\n",
    "\n",
    "wb.close()\n",
    "logf.write(\"Completed script 'SY18 ToT Audit'\\n\")\n",
    "logf.close()\n",
    "\n",
    "delete_ToT_entries()"
   ]
  },
  {
   "cell_type": "code",
   "execution_count": 3,
   "metadata": {
    "collapsed": false
   },
   "outputs": [
    {
     "data": {
      "text/plain": [
       "School: Account Name\n",
       "Brian Piccolo Elementary School of Excellence    29\n",
       "Chalmers School of Excellence                     7\n",
       "Chicago Academy High School                       1\n",
       "Dulles School of Excellence                      12\n",
       "Frederick Funston Elementary School               6\n",
       "Fuller School of Excellence                       1\n",
       "Herzl School of Excellence                        1\n",
       "John J Pershing Elementary Humanities Magnet      1\n",
       "Joseph Lovett Elementary School                   3\n",
       "McNair School of Excellence                      39\n",
       "dtype: int64"
      ]
     },
     "execution_count": 3,
     "metadata": {},
     "output_type": "execute_result"
    }
   ],
   "source": [
    "counts"
   ]
  }
 ],
 "metadata": {
  "kernelspec": {
   "display_name": "Python 3",
   "language": "python",
   "name": "python3"
  },
  "language_info": {
   "codemirror_mode": {
    "name": "ipython",
    "version": 3
   },
   "file_extension": ".py",
   "mimetype": "text/x-python",
   "name": "python",
   "nbconvert_exporter": "python",
   "pygments_lexer": "ipython3",
   "version": "3.6.0"
  }
 },
 "nbformat": 4,
 "nbformat_minor": 2
}
