{
 "cells": [
  {
   "cell_type": "code",
   "execution_count": null,
   "metadata": {},
   "outputs": [],
   "source": [
    "from simple_cysh import *\n",
    "\n",
    "student_sections_df = get_cysh_df('Student_Section__c',\n",
    "                                  ['Id', 'Student__c', 'Section__c', 'Active__c', 'Enrollment_End_Date__c'],\n",
    "                                  where = \"Active__c = True\")\n",
    "n_exits = len(student_sections_df)\n",
    "print(f\"{n_exits} student/sections to exit\")"
   ]
  },
  {
   "cell_type": "code",
   "execution_count": null,
   "metadata": {},
   "outputs": [],
   "source": [
    "for index, row in student_sections_df.iterrows():\n",
    "    if index % 100 == 0:\n",
    "        print(f\"{round((index+1)/n_exits*100)}% complete\")\n",
    "        \n",
    "    student_section_id = row['Id']\n",
    "    exit_date = '2018-06-08'\n",
    "    exit_reason = 'School Year ended'\n",
    "\n",
    "    cysh.Student_Section__c.update(student_section_id, {'Active__c':False})\n",
    "    cysh.Student_Section__c.update(student_section_id, {'Enrollment_End_Date__c':exit_date})\n",
    "    cysh.Student_Section__c.update(student_section_id, {'Section_Exit_Reason__c':exit_reason})"
   ]
  },
  {
   "cell_type": "code",
   "execution_count": null,
   "metadata": {},
   "outputs": [],
   "source": [
    "## For testing purposes in CHI\n",
    "# student_section_id = 'a1T1a000001sZTvEAM'\n",
    "# exit_date = '2018-06-08'\n",
    "# exit_reason = 'School Year ended'\n",
    "\n",
    "# cysh.Student_Section__c.update(student_section_id, {'Active__c':False})\n",
    "# cysh.Student_Section__c.update(student_section_id, {'Enrollment_End_Date__c':exit_date})\n",
    "# cysh.Student_Section__c.update(student_section_id, {'Section_Exit_Reason__c':exit_reason})"
   ]
  }
 ],
 "metadata": {
  "kernelspec": {
   "display_name": "Python 3",
   "language": "python",
   "name": "python3"
  },
  "language_info": {
   "codemirror_mode": {
    "name": "ipython",
    "version": 3
   },
   "file_extension": ".py",
   "mimetype": "text/x-python",
   "name": "python",
   "nbconvert_exporter": "python",
   "pygments_lexer": "ipython3",
   "version": "3.6.4"
  }
 },
 "nbformat": 4,
 "nbformat_minor": 2
}
