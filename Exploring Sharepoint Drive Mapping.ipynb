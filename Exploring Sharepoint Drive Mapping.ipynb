{
 "cells": [
  {
   "cell_type": "markdown",
   "metadata": {},
   "source": [
    "## Sharepoint Design Inputs\n",
    "\n",
    "* programmatically read and write files to school team folders in python\n",
    "* read files from school team folders in Power BI\n",
    "\n",
    "#### Experiment with re-activating Sharepoint mapped netwok drive\n",
    "\n",
    "https://stackoverflow.com/questions/41959833/copy-from-local-drive-to-mapped-sharepoint-drive-using-python\n",
    "\n",
    "https://stackoverflow.com/questions/15925368/how-to-refresh-network-drive-mappings-in-python\n",
    "\n",
    "this user figured it out but didn't share:\n",
    "\n",
    "https://stackoverflow.com/questions/41959833/copy-from-local-drive-to-mapped-sharepoint-drive-using-python\n",
    "\n",
    "https://support.office.com/en-us/article/troubleshoot-mapped-network-drives-that-connect-to-sharepoint-online-ef399c67-4578-4c3a-adbe-0b489084eabe?ui=en-US&rs=en-US&ad=US\n",
    "\n",
    "https://stackoverflow.com/questions/1271317/what-is-the-best-way-to-map-windows-drives-using-python"
   ]
  },
  {
   "cell_type": "code",
   "execution_count": null,
   "metadata": {},
   "outputs": [],
   "source": [
    "# # Password: password\n",
    "# import subprocess\n",
    "\n",
    "# # Disconnect anything on M\n",
    "# subprocess.call(r'net use m: /del /Y', shell=True)\n",
    "\n",
    "# # Connect to shared drive, use drive letter M\n",
    "# subprocess.call(r'net use m: \\\\cityyear.sharepoint.com@SSL\\teams\\chi /user:USER PASSWORD', shell=True)\n",
    "\n",
    "# os.system('net use m: \\\\cityyear.sharepoint.com@SSL\\davwwwroot\\teams\\chi /user:USER PASSWORD')\n",
    "\n",
    "# import win32wnet\n",
    "\n",
    "# win32wnet.WNetAddConnection2(1, 'M:', r'\\\\cityyear.sharepoint.com@SSL\\teams\\chi', \n",
    "#                              None, 'USER', 'PASSWORD')"
   ]
  }
 ],
 "metadata": {
  "kernelspec": {
   "display_name": "Python 3",
   "language": "python",
   "name": "python3"
  },
  "language_info": {
   "codemirror_mode": {
    "name": "ipython",
    "version": 3
   },
   "file_extension": ".py",
   "mimetype": "text/x-python",
   "name": "python",
   "nbconvert_exporter": "python",
   "pygments_lexer": "ipython3",
   "version": "3.6.8"
  }
 },
 "nbformat": 4,
 "nbformat_minor": 2
}
